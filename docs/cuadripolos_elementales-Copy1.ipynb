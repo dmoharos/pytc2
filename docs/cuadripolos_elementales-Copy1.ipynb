{
 "cells": [
  {
   "cell_type": "markdown",
   "metadata": {},
   "source": [
    "# Síntesis de funciones de excitación: Foster y Cauer\n",
    "<img src=\"./logo_UTN.svg\" align=\"right\" width=\"150\" /> \n",
    "\n",
    "#### Por Mariano Llamedo Soria"
   ]
  },
  {
   "cell_type": "markdown",
   "metadata": {},
   "source": [
    "### Resumen \n",
    "En este documento se presentan algunas de las capacidades que posee el módulo PyTC2 para operar con cuadripolos. Se muestran ejemplos de cómo definir redes y sus modelos Z, Y y $T_{ABCD}$ asociados, como también algunas redes que implementan dichos modelos.\n",
    "\n",
    "* Funciones de dibujo de redes: [dibujar_Pi](), [dibujar_Tee]()\n",
    "* Funciones de conversión y definición de cuadripolos: [Z2Tabcd_s](), [Y2Tabcd_s](), [TabcdY_s](), [TabcdZ_s](), [TabcdLZY_s](), \n",
    "* Funciones para presentación de markdown y latex: [print_latex](), [print_subtitle](), [a_equal_b_latex_s]()\n"
   ]
  },
  {
   "cell_type": "markdown",
   "metadata": {},
   "source": [
    "### Introducción\n",
    "\n",
    "A lo largo del curso se presentó una metodología sistemática para arribar a una función transferencia $T(s)$ a partir de restricciones de la función de módulo $\\vert T(j\\omega) \\vert $ o retardo $ \\tau(\\omega) $. Si bien en primera instancia arribamos a una $T_{LP}(s)$ pasabajos, es posible mediante núcleos de transformación el pasaje a otro tipo de transferencias (pasa-alto, pasabanda, etc).\n",
    "\n",
    "$$ F(s)=\\frac{k_0}{s} + k_\\inf.s + \\sum_k=1^N\\frac{2.k}{} $$\n"
   ]
  },
  {
   "cell_type": "code",
   "execution_count": 1,
   "metadata": {
    "scrolled": true
   },
   "outputs": [],
   "source": [
    "# Ahora importamos las funciones de PyTC2\n",
    "\n",
    "\n",
    "import sympy as sp\n",
    "\n",
    "from pytc2.sintesis_dipolo import foster\n",
    "from pytc2.dibujar import dibujar_foster_serie, dibujar_foster_derivacion\n",
    "from pytc2.general import print_latex, print_console_subtitle, a_equal_b_latex_s\n"
   ]
  },
  {
   "cell_type": "code",
   "execution_count": null,
   "metadata": {},
   "outputs": [],
   "source": []
  },
  {
   "cell_type": "code",
   "execution_count": 2,
   "metadata": {},
   "outputs": [
    {
     "data": {
      "text/latex": [
       "$\\displaystyle F(s)=\\frac{2 s^{4} + 20 s^{2} + 18}{s^{3} + 4 s}$"
      ],
      "text/plain": [
       "<IPython.core.display.Math object>"
      ]
     },
     "metadata": {},
     "output_type": "display_data"
    }
   ],
   "source": [
    "# Resolución simbólica\n",
    "s = sp.symbols('s ', complex=True)\n",
    "\n",
    "# Sea la siguiente función de excitación\n",
    "FF = (2*s**4 + 20*s**2 + 18)/(s**3 + 4*s)\n",
    "\n",
    "print_latex(a_equal_b_latex_s('F(s)', FF))\n"
   ]
  },
  {
   "cell_type": "code",
   "execution_count": null,
   "metadata": {},
   "outputs": [],
   "source": []
  },
  {
   "cell_type": "code",
   "execution_count": null,
   "metadata": {},
   "outputs": [],
   "source": [
    "# Implementaremos FF mediante Foster\n",
    "k0, koo, ki_wi, FF_foster = foster(FF)\n",
    "\n"
   ]
  },
  {
   "cell_type": "code",
   "execution_count": null,
   "metadata": {},
   "outputs": [],
   "source": []
  },
  {
   "cell_type": "code",
   "execution_count": null,
   "metadata": {},
   "outputs": [],
   "source": [
    "print_console_subtitle('Foster serie')\n",
    "\n",
    "print_latex(a_equal_b_latex_s(a_equal_b_latex_s('Z(s)=F(s)', FF)[1:-1], FF_foster ))\n",
    "\n",
    "# Tratamos a nuestra función imitancia como una Z\n",
    "dibujar_foster_serie(k0, koo, ki_wi, z_exc = FF)\n",
    "\n",
    "print_console_subtitle('Foster derivación')\n",
    "\n",
    "print_latex(a_equal_b_latex_s(a_equal_b_latex_s('Y(s)=F(s)', FF)[1:-1], FF_foster ))\n",
    "\n",
    "\n",
    "# Tratamos a nuestra función imitancia como una Y\n",
    "dibujar_foster_derivacion(k0, koo, ki_wi, y_exc = FF)\n",
    "\n",
    "\n"
   ]
  }
 ],
 "metadata": {
  "kernelspec": {
   "display_name": "Python 3 (ipykernel)",
   "language": "python",
   "name": "python3"
  },
  "language_info": {
   "codemirror_mode": {
    "name": "ipython",
    "version": 3
   },
   "file_extension": ".py",
   "mimetype": "text/x-python",
   "name": "python",
   "nbconvert_exporter": "python",
   "pygments_lexer": "ipython3",
   "version": "3.10.12"
  },
  "varInspector": {
   "cols": {
    "lenName": 16,
    "lenType": 16,
    "lenVar": 40
   },
   "kernels_config": {
    "python": {
     "delete_cmd_postfix": "",
     "delete_cmd_prefix": "del ",
     "library": "var_list.py",
     "varRefreshCmd": "print(var_dic_list())"
    },
    "r": {
     "delete_cmd_postfix": ") ",
     "delete_cmd_prefix": "rm(",
     "library": "var_list.r",
     "varRefreshCmd": "cat(var_dic_list()) "
    }
   },
   "types_to_exclude": [
    "module",
    "function",
    "builtin_function_or_method",
    "instance",
    "_Feature"
   ],
   "window_display": false
  }
 },
 "nbformat": 4,
 "nbformat_minor": 2
}
