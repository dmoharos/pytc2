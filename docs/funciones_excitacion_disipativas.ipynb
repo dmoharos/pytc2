{
 "cells": [
  {
   "cell_type": "markdown",
   "metadata": {},
   "source": [
    "# Síntesis de funciones de excitación RC-RL\n",
    "<img src=\"./logo_UTN.svg\" align=\"right\" width=\"150\" /> \n",
    "\n",
    "#### Por Mariano Llamedo Soria"
   ]
  },
  {
   "cell_type": "markdown",
   "metadata": {},
   "source": [
    "### Resumen \n",
    "Se presentan los métodos de Foster y Cauer para la síntesis de redes no disipativas. Ambos métodos nos permitirán implementar cualquier función de excitación, real y positiva (FRP), en una red eléctrica canónica, es decir, con la menor cantidad posible de componentes.\n",
    "* Funciones de dibujo de redes: [dibujar_foster_serie](), [dibujar_foster_derivacion](), [dibujar_cauer_LC]()\n",
    "* Funciones de síntesis de dipolos: [cauer_LC](), [foster]()\n",
    "* Funciones para presentación de markdown y latex: [print_latex](), [print_subtitle](), [a_equal_b_latex_s]()\n"
   ]
  },
  {
   "cell_type": "markdown",
   "metadata": {},
   "source": [
    "### Introducción a las funciones de excitación RC-RL\n",
    "\n",
    "Se extiende ahora el estudio a las funciones de exitación (FE) compuestas **solamente** por dos elementos, siendo uno de ellos necesariamente disipativo. Esto significa redes  RC ó RL, cuya inmitancia seguirá siendo $F(s)$. En este documento se ananalizan solo las redes RC, ya que han tenido mayor importancia tecnológica, pero las RL pueden comprenderse mediante las siguientes dualidad:\n",
    "\n",
    "* $Z_{RC} \\sim Y_{RL}$\n",
    "* $Z_{RL} \\sim Y_{RC}$\n",
    "\n",
    "es decir que se puede pensar en una $Z_{RC}$ *a la Foster*\n",
    "\n",
    "$$ Z_{RC}(s)= \\frac{k_0}{s} + k_\\infty + \\sum_{i=1}^N\\frac{k_i}{s+\\sigma_i^2} $$\n",
    "\n",
    "o una $Y_{RC}$\n",
    "\n",
    "$$ Y_{RC}(s)= k_0 + k_\\infty.s + \\sum_{i=1}^N\\frac{k_i.s}{s+\\sigma_i^2} $$\n",
    "\n",
    "dichas expresiones tienen implicancias circuitales que conviene tenerlas presentes antes de continuar con los siguientes ejemplos. Se refiere al lector interesado al cap. 4 del libro de Araujo *Síntesis de redes lineales*, o a *Network Synthesis* de Franklin Kuo.\n",
    "\n",
    "La expansión en fracciones continuas del método de Cauer también dará lugar a redes escalera como pronto se mostrará.\n"
   ]
  },
  {
   "cell_type": "code",
   "execution_count": 1,
   "metadata": {
    "scrolled": true
   },
   "outputs": [],
   "source": [
    "\n",
    "import sympy as sp\n",
    "\n",
    "# Ahora importamos las funciones de PyTC2\n",
    "\n",
    "from pytc2.sintesis_dipolo import cauer_RC, foster, foster_zRC2yRC\n",
    "from pytc2.dibujar import dibujar_cauer_RC_RL, dibujar_foster_derivacion, dibujar_foster_serie\n",
    "from pytc2.general import print_latex, print_subtitle, a_equal_b_latex_s\n",
    "from IPython.display import display,  Markdown\n"
   ]
  },
  {
   "cell_type": "markdown",
   "metadata": {},
   "source": []
  },
  {
   "cell_type": "code",
   "execution_count": 2,
   "metadata": {},
   "outputs": [
    {
     "data": {
      "text/latex": [
       "$\\displaystyle Z_{RC}(s)=\\frac{s^{2} + 4 s + 3}{s^{2} + 2 s}$"
      ],
      "text/plain": [
       "<IPython.core.display.Math object>"
      ]
     },
     "metadata": {},
     "output_type": "display_data"
    },
    {
     "data": {
      "text/latex": [
       "$\\displaystyle Y_{RC}(s)=\\frac{2 s^{2} + 8 s + 6}{s^{2} + 8 s + 12}$"
      ],
      "text/plain": [
       "<IPython.core.display.Math object>"
      ]
     },
     "metadata": {},
     "output_type": "display_data"
    }
   ],
   "source": [
    "# Resolución simbólica\n",
    "s = sp.symbols('s ', complex=True)\n",
    "\n",
    "# Sea la siguiente función de excitación\n",
    "ZRC = (s**2 + 4*s + 3)/(s**2 + 2*s)\n",
    "YRC = 2*(s**2 + 4*s + 3)/(s**2 + 8*s + 12)\n",
    "\n",
    "print_latex(a_equal_b_latex_s('Z_{RC}(s)', ZRC))\n",
    "print_latex(a_equal_b_latex_s('Y_{RC}(s)', YRC))\n"
   ]
  },
  {
   "cell_type": "code",
   "execution_count": null,
   "metadata": {},
   "outputs": [],
   "source": [
    "\n"
   ]
  },
  {
   "cell_type": "code",
   "execution_count": 3,
   "metadata": {},
   "outputs": [
    {
     "data": {
      "text/latex": [
       "$\\displaystyle k_0=\\frac{3}{2}$"
      ],
      "text/plain": [
       "<IPython.core.display.Math object>"
      ]
     },
     "metadata": {},
     "output_type": "display_data"
    },
    {
     "data": {
      "text/latex": [
       "$\\displaystyle k_1 = \\left[\\left[  \\frac{1}{k_1}, \\frac{\\sigma_1^2}{k_1} \\right]\\right]=\\left[ \\left[ 2, \\  4\\right]\\right]$"
      ],
      "text/plain": [
       "<IPython.core.display.Math object>"
      ]
     },
     "metadata": {},
     "output_type": "display_data"
    },
    {
     "data": {
      "text/latex": [
       "$\\displaystyle k_k=1$"
      ],
      "text/plain": [
       "<IPython.core.display.Math object>"
      ]
     },
     "metadata": {},
     "output_type": "display_data"
    },
    {
     "data": {
      "text/latex": [
       "$\\displaystyle Z_{RC}(s)=\\frac{s^{2} + 4 s + 3}{s^{2} + 2 s}=1 + \\frac{1}{2 \\left(s + 2\\right)} + \\frac{3}{2 s}$"
      ],
      "text/plain": [
       "<IPython.core.display.Math object>"
      ]
     },
     "metadata": {},
     "output_type": "display_data"
    }
   ],
   "source": [
    "# Se expande ZRC a la Foster\n",
    "k0, koo, ki_wi, kk, ZRC_foster = foster(ZRC)\n",
    "\n",
    "print_latex(a_equal_b_latex_s('k_0', k0))\n",
    "\n",
    "print_latex(a_equal_b_latex_s(r'k_1 = \\left[\\left[  \\frac{1}{k_1}, \\frac{\\sigma_1^2}{k_1} \\right]\\right]', ki_wi ))\n",
    "\n",
    "print_latex(a_equal_b_latex_s('k_k', kk))\n",
    "\n",
    "print_latex(a_equal_b_latex_s(a_equal_b_latex_s('Z_{RC}(s)', ZRC)[1:-1], ZRC_foster ))\n"
   ]
  },
  {
   "cell_type": "code",
   "execution_count": 4,
   "metadata": {
    "scrolled": true
   },
   "outputs": [
    {
     "data": {
      "text/markdown": [
       "#### Foster serie"
      ],
      "text/plain": [
       "<IPython.core.display.Markdown object>"
      ]
     },
     "metadata": {},
     "output_type": "display_data"
    },
    {
     "data": {
      "image/png": "[encoded data removed]",
      "image/svg+xml": [
       "<?xml version=\"1.0\" encoding=\"utf-8\" standalone=\"no\"?>\n",
       "<!DOCTYPE svg PUBLIC \"-//W3C//DTD SVG 1.1//EN\"\n",
       "  \"http://www.w3.org/Graphics/SVG/1.1/DTD/svg11.dtd\">\n",
       "<svg xmlns:xlink=\"http://www.w3.org/1999/xlink\" width=\"565.6488pt\" height=\"299.15pt\" viewBox=\"0 0 565.6488 299.15\" xmlns=\"http://www.w3.org/2000/svg\" version=\"1.1\">\n",
       " <metadata>\n",
       "  <rdf:RDF xmlns:dc=\"http://purl.org/dc/elements/1.1/\" xmlns:cc=\"http://creativecommons.org/ns#\" xmlns:rdf=\"http://www.w3.org/1999/02/22-rdf-syntax-ns#\">\n",
       "   <cc:Work>\n",
       "    <dc:type rdf:resource=\"http://purl.org/dc/dcmitype/StillImage\"/>\n",
       "    <dc:date>2023-10-03T19:25:57.173297</dc:date>\n",
       "    <dc:format>image/svg+xml</dc:format>\n",
       "    <dc:creator>\n",
       "     <cc:Agent>\n",
       "      <dc:title>Matplotlib v3.7.1, https://matplotlib.org/</dc:title>\n",
       "     </cc:Agent>\n",
       "    </dc:creator>\n",
       "   </cc:Work>\n",
       "  </rdf:RDF>\n",
       " </metadata>\n",
       " <defs>\n",
       "  <style type=\"text/css\">*{stroke-linejoin: round; stroke-linecap: butt}</style>\n",
       " </defs>\n",
       " <g id=\"figure_1\">\n",
       "  <g id=\"patch_1\">\n",
       "   <path d=\"M 0 299.15 \n",
       "L 565.6488 299.15 \n",
       "L 565.6488 0 \n",
       "L 0 0 \n",
       "z\n",
       "\" style=\"fill: #ffffff\"/>\n",
       "  </g>\n",
       "  <g id=\"axes_1\">\n",
       "   <g id=\"patch_2\">\n",
       "    <path d=\"M 425.3388 105.29 \n",
       "C 425.3388 104.275936 424.935535 103.302368 424.218483 102.585317 \n",
       "C 423.501432 101.868265 422.527864 101.465 421.5138 101.465 \n",
       "C 420.499736 101.465 419.526168 101.868265 418.809117 102.585317 \n",
       "C 418.092065 103.302368 417.6888 104.275936 417.6888 105.29 \n",
       "\" clip-path=\"url(#p0aad9acb84)\" style=\"fill: none; stroke: #000000; stroke-width: 2; stroke-linejoin: miter\"/>\n",
       "   </g>\n",
       "   <g id=\"patch_3\">\n",
       "    <path d=\"M 432.9888 105.29 \n",
       "C 432.9888 104.275936 432.585535 103.302368 431.868483 102.585317 \n",
       "C 431.151432 101.868265 430.177864 101.465 429.1638 101.465 \n",
       "C 428.149736 101.465 427.176168 101.868265 426.459117 102.585317 \n",
       "C 425.742065 103.302368 425.3388 104.275936 425.3388 105.29 \n",
       "\" clip-path=\"url(#p0aad9acb84)\" style=\"fill: none; stroke: #000000; stroke-width: 2; stroke-linejoin: miter\"/>\n",
       "   </g>\n",
       "   <g id=\"patch_4\">\n",
       "    <path d=\"M 440.6388 105.29 \n",
       "C 440.6388 104.275936 440.235535 103.302368 439.518483 102.585317 \n",
       "C 438.801432 101.868265 437.827864 101.465 436.8138 101.465 \n",
       "C 435.799736 101.465 434.826168 101.868265 434.109117 102.585317 \n",
       "C 433.392065 103.302368 432.9888 104.275936 432.9888 105.29 \n",
       "\" clip-path=\"url(#p0aad9acb84)\" style=\"fill: none; stroke: #000000; stroke-width: 2; stroke-linejoin: miter\"/>\n",
       "   </g>\n",
       "   <g id=\"patch_5\">\n",
       "    <path d=\"M 448.2888 105.29 \n",
       "C 448.2888 104.275936 447.885535 103.302368 447.168483 102.585317 \n",
       "C 446.451432 101.868265 445.477864 101.465 444.4638 101.465 \n",
       "C 443.449736 101.465 442.476168 101.868265 441.759117 102.585317 \n",
       "C 441.042065 103.302368 440.6388 104.275936 440.6388 105.29 \n",
       "\" clip-path=\"url(#p0aad9acb84)\" style=\"fill: none; stroke: #000000; stroke-width: 2; stroke-linejoin: miter\"/>\n",
       "   </g>\n",
       "   <g id=\"line2d_1\">\n",
       "    <path d=\"M 126.9888 227.69 \n",
       "L 157.5888 227.69 \n",
       "L 188.1888 227.69 \n",
       "\" clip-path=\"url(#p0aad9acb84)\" style=\"fill: none; stroke: #000000; stroke-width: 2; stroke-linecap: round\"/>\n",
       "   </g>\n",
       "   <g id=\"line2d_2\">\n",
       "    <path d=\"M 188.1888 105.29 \n",
       "L 172.8888 105.29 \n",
       "L 157.5888 105.29 \n",
       "\" clip-path=\"url(#p0aad9acb84)\" style=\"fill: none; stroke: #000000; stroke-width: 2; stroke-linecap: round\"/>\n",
       "   </g>\n",
       "   <g id=\"line2d_3\">\n",
       "    <path d=\"M 149.9388 105.29 \n",
       "L 142.2888 105.29 \n",
       "L 126.9888 105.29 \n",
       "\" clip-path=\"url(#p0aad9acb84)\" style=\"fill: none; stroke: #000000; stroke-width: 2; stroke-linecap: round\"/>\n",
       "   </g>\n",
       "   <g id=\"patch_6\">\n",
       "    <path d=\"M 149.9388 102.995 \n",
       "L 157.5888 105.29 \n",
       "L 149.9388 107.585 \n",
       "z\n",
       "\" clip-path=\"url(#p0aad9acb84)\"/>\n",
       "   </g>\n",
       "   <g id=\"line2d_4\">\n",
       "    <path d=\"M 188.1888 105.29 \n",
       "L 203.4888 105.29 \n",
       "L 218.7888 105.29 \n",
       "\" clip-path=\"url(#p0aad9acb84)\" style=\"fill: none; stroke: #000000; stroke-width: 2; stroke-linecap: round\"/>\n",
       "   </g>\n",
       "   <g id=\"line2d_5\">\n",
       "    <path d=\"M 218.7888 233.81 \n",
       "L 218.7888 218.51 \n",
       "L 218.7888 203.21 \n",
       "\" clip-path=\"url(#p0aad9acb84)\" style=\"fill: none; stroke: #000000; stroke-linecap: round\"/>\n",
       "   </g>\n",
       "   <g id=\"line2d_6\">\n",
       "    <path d=\"M 218.7888 203.21 \n",
       "L 226.4388 203.21 \n",
       "L 226.4388 203.21 \n",
       "\" clip-path=\"url(#p0aad9acb84)\" style=\"fill: none; stroke: #000000; stroke-linecap: round\"/>\n",
       "   </g>\n",
       "   <g id=\"patch_7\">\n",
       "    <path d=\"M 226.4388 200.915 \n",
       "L 234.0888 203.21 \n",
       "L 226.4388 205.505 \n",
       "z\n",
       "\" clip-path=\"url(#p0aad9acb84)\"/>\n",
       "   </g>\n",
       "   <g id=\"line2d_7\">\n",
       "    <path d=\"M 218.7888 227.69 \n",
       "L 203.4888 227.69 \n",
       "L 188.1888 227.69 \n",
       "\" clip-path=\"url(#p0aad9acb84)\" style=\"fill: none; stroke: #000000; stroke-width: 2; stroke-linecap: round\"/>\n",
       "   </g>\n",
       "   <g id=\"line2d_8\">\n",
       "    <path d=\"M 218.7888 227.69 \n",
       "L 234.0888 227.69 \n",
       "L 249.3888 227.69 \n",
       "\" clip-path=\"url(#p0aad9acb84)\" style=\"fill: none; stroke: #000000; stroke-width: 2; stroke-linecap: round\"/>\n",
       "   </g>\n",
       "   <g id=\"line2d_9\">\n",
       "    <path d=\"M 218.7888 105.29 \n",
       "L 234.0888 105.29 \n",
       "L 249.3888 105.29 \n",
       "\" clip-path=\"url(#p0aad9acb84)\" style=\"fill: none; stroke: #000000; stroke-width: 2; stroke-linecap: round\"/>\n",
       "   </g>\n",
       "   <g id=\"line2d_10\">\n",
       "    <path d=\"M 249.3888 105.29 \n",
       "L 307.8348 105.29 \n",
       "M 307.8348 97.64 \n",
       "L 307.8348 112.94 \n",
       "M 313.3428 97.64 \n",
       "L 313.3428 112.94 \n",
       "M 313.3428 105.29 \n",
       "L 371.7888 105.29 \n",
       "\" clip-path=\"url(#p0aad9acb84)\" style=\"fill: none; stroke: #000000; stroke-width: 2; stroke-linecap: round\"/>\n",
       "   </g>\n",
       "   <g id=\"line2d_11\">\n",
       "    <path d=\"M 371.7888 227.69 \n",
       "L 310.5888 227.69 \n",
       "L 249.3888 227.69 \n",
       "\" clip-path=\"url(#p0aad9acb84)\" style=\"fill: none; stroke: #000000; stroke-width: 2; stroke-linecap: round\"/>\n",
       "   </g>\n",
       "   <g id=\"line2d_12\">\n",
       "    <path d=\"M 371.7888 105.29 \n",
       "L 417.6888 105.29 \n",
       "M 448.2888 105.29 \n",
       "L 494.1888 105.29 \n",
       "\" clip-path=\"url(#p0aad9acb84)\" style=\"fill: none; stroke: #000000; stroke-width: 2; stroke-linecap: round\"/>\n",
       "   </g>\n",
       "   <g id=\"line2d_13\">\n",
       "    <path d=\"M 371.7888 105.29 \n",
       "L 371.7888 74.69 \n",
       "L 371.7888 44.09 \n",
       "\" clip-path=\"url(#p0aad9acb84)\" style=\"fill: none; stroke: #000000; stroke-width: 2; stroke-linecap: round\"/>\n",
       "   </g>\n",
       "   <g id=\"line2d_14\">\n",
       "    <path d=\"M 371.7888 44.09 \n",
       "L 430.2348 44.09 \n",
       "M 430.2348 36.44 \n",
       "L 430.2348 51.74 \n",
       "M 435.7428 36.44 \n",
       "L 435.7428 51.74 \n",
       "M 435.7428 44.09 \n",
       "L 494.1888 44.09 \n",
       "\" clip-path=\"url(#p0aad9acb84)\" style=\"fill: none; stroke: #000000; stroke-width: 2; stroke-linecap: round\"/>\n",
       "   </g>\n",
       "   <g id=\"line2d_15\">\n",
       "    <path d=\"M 494.1888 44.09 \n",
       "L 494.1888 74.69 \n",
       "L 494.1888 105.29 \n",
       "\" clip-path=\"url(#p0aad9acb84)\" style=\"fill: none; stroke: #000000; stroke-width: 2; stroke-linecap: round\"/>\n",
       "   </g>\n",
       "   <g id=\"line2d_16\">\n",
       "    <path d=\"M 494.1888 227.69 \n",
       "L 432.9888 227.69 \n",
       "L 371.7888 227.69 \n",
       "\" clip-path=\"url(#p0aad9acb84)\" style=\"fill: none; stroke: #000000; stroke-width: 2; stroke-linecap: round\"/>\n",
       "   </g>\n",
       "   <g id=\"line2d_17\">\n",
       "    <path d=\"M 494.1888 105.29 \n",
       "L 509.4888 105.29 \n",
       "L 524.7888 105.29 \n",
       "\" clip-path=\"url(#p0aad9acb84)\" style=\"fill: none; stroke: #000000; stroke-width: 2; stroke-linecap: round\"/>\n",
       "   </g>\n",
       "   <g id=\"line2d_18\">\n",
       "    <path d=\"M 524.7888 227.69 \n",
       "L 509.4888 227.69 \n",
       "L 494.1888 227.69 \n",
       "\" clip-path=\"url(#p0aad9acb84)\" style=\"fill: none; stroke: #000000; stroke-width: 2; stroke-linecap: round\"/>\n",
       "   </g>\n",
       "   <g id=\"line2d_19\">\n",
       "    <path d=\"M 524.7888 105.29 \n",
       "L 540.0888 105.29 \n",
       "L 555.3888 105.29 \n",
       "\" clip-path=\"url(#p0aad9acb84)\" style=\"fill: none; stroke: #000000; stroke-width: 2; stroke-linecap: round\"/>\n",
       "   </g>\n",
       "   <g id=\"line2d_20\">\n",
       "    <path d=\"M 555.3888 105.29 \n",
       "L 555.3888 166.49 \n",
       "L 555.3888 227.69 \n",
       "\" clip-path=\"url(#p0aad9acb84)\" style=\"fill: none; stroke: #000000; stroke-width: 2; stroke-linecap: round\"/>\n",
       "   </g>\n",
       "   <g id=\"line2d_21\">\n",
       "    <path d=\"M 555.3888 227.69 \n",
       "L 540.0888 227.69 \n",
       "L 524.7888 227.69 \n",
       "\" clip-path=\"url(#p0aad9acb84)\" style=\"fill: none; stroke: #000000; stroke-width: 2; stroke-linecap: round\"/>\n",
       "   </g>\n",
       "   <g id=\"text_1\">\n",
       "    <g clip-path=\"url(#p0aad9acb84)\">\n",
       "     <!-- + -->\n",
       "     <g transform=\"translate(120.913527 139.891094) scale(0.145 -0.145)\">\n",
       "      <defs>\n",
       "       <path id=\"DejaVuSans-2b\" d=\"M 2944 4013 \n",
       "L 2944 2272 \n",
       "L 4684 2272 \n",
       "L 4684 1741 \n",
       "L 2944 1741 \n",
       "L 2944 0 \n",
       "L 2419 0 \n",
       "L 2419 1741 \n",
       "L 678 1741 \n",
       "L 678 2272 \n",
       "L 2419 2272 \n",
       "L 2419 4013 \n",
       "L 2944 4013 \n",
       "z\n",
       "\" transform=\"scale(0.015625)\"/>\n",
       "      </defs>\n",
       "      <use xlink:href=\"#DejaVuSans-2b\"/>\n",
       "     </g>\n",
       "    </g>\n",
       "   </g>\n",
       "   <g id=\"text_2\">\n",
       "    <g clip-path=\"url(#p0aad9acb84)\">\n",
       "     <!-- $V$ -->\n",
       "     <g transform=\"translate(121.9863 170.491094) scale(0.145 -0.145)\">\n",
       "      <defs>\n",
       "       <path id=\"DejaVuSans-Oblique-56\" d=\"M 1319 0 \n",
       "L 500 4666 \n",
       "L 1119 4666 \n",
       "L 1797 653 \n",
       "L 4063 4666 \n",
       "L 4750 4666 \n",
       "L 2053 0 \n",
       "L 1319 0 \n",
       "z\n",
       "\" transform=\"scale(0.015625)\"/>\n",
       "      </defs>\n",
       "      <use xlink:href=\"#DejaVuSans-Oblique-56\" transform=\"translate(0 0.09375)\"/>\n",
       "     </g>\n",
       "    </g>\n",
       "   </g>\n",
       "   <g id=\"text_3\">\n",
       "    <g clip-path=\"url(#p0aad9acb84)\">\n",
       "     <!-- - -->\n",
       "     <g transform=\"translate(124.373136 201.091094) scale(0.145 -0.145)\">\n",
       "      <defs>\n",
       "       <path id=\"DejaVuSans-2d\" d=\"M 313 2009 \n",
       "L 1997 2009 \n",
       "L 1997 1497 \n",
       "L 313 1497 \n",
       "L 313 2009 \n",
       "z\n",
       "\" transform=\"scale(0.015625)\"/>\n",
       "      </defs>\n",
       "      <use xlink:href=\"#DejaVuSans-2d\"/>\n",
       "     </g>\n",
       "    </g>\n",
       "   </g>\n",
       "   <g id=\"text_4\">\n",
       "    <g clip-path=\"url(#p0aad9acb84)\">\n",
       "     <!-- $I$ -->\n",
       "     <g transform=\"translate(140.1138 99.214453) scale(0.145 -0.145)\">\n",
       "      <defs>\n",
       "       <path id=\"DejaVuSans-Oblique-49\" d=\"M 1081 4666 \n",
       "L 1716 4666 \n",
       "L 806 0 \n",
       "L 172 0 \n",
       "L 1081 4666 \n",
       "z\n",
       "\" transform=\"scale(0.015625)\"/>\n",
       "      </defs>\n",
       "      <use xlink:href=\"#DejaVuSans-Oblique-49\" transform=\"translate(0 0.09375)\"/>\n",
       "     </g>\n",
       "    </g>\n",
       "   </g>\n",
       "   <g id=\"text_5\">\n",
       "    <g clip-path=\"url(#p0aad9acb84)\">\n",
       "     <!-- $ Z = 1 + \\frac{1}{2 \\left(s + 2\\right)} + \\frac{3}{2 s} $ -->\n",
       "     <g transform=\"translate(129.3063 262.875) scale(0.205 -0.205)\">\n",
       "      <defs>\n",
       "       <path id=\"DejaVuSans-Oblique-5a\" d=\"M 838 4666 \n",
       "L 4500 4666 \n",
       "L 4409 4184 \n",
       "L 794 531 \n",
       "L 3769 531 \n",
       "L 3669 0 \n",
       "L -141 0 \n",
       "L -50 481 \n",
       "L 3566 4134 \n",
       "L 738 4134 \n",
       "L 838 4666 \n",
       "z\n",
       "\" transform=\"scale(0.015625)\"/>\n",
       "       <path id=\"DejaVuSans-3d\" d=\"M 678 2906 \n",
       "L 4684 2906 \n",
       "L 4684 2381 \n",
       "L 678 2381 \n",
       "L 678 2906 \n",
       "z\n",
       "M 678 1631 \n",
       "L 4684 1631 \n",
       "L 4684 1100 \n",
       "L 678 1100 \n",
       "L 678 1631 \n",
       "z\n",
       "\" transform=\"scale(0.015625)\"/>\n",
       "       <path id=\"DejaVuSans-31\" d=\"M 794 531 \n",
       "L 1825 531 \n",
       "L 1825 4091 \n",
       "L 703 3866 \n",
       "L 703 4441 \n",
       "L 1819 4666 \n",
       "L 2450 4666 \n",
       "L 2450 531 \n",
       "L 3481 531 \n",
       "L 3481 0 \n",
       "L 794 0 \n",
       "L 794 531 \n",
       "z\n",
       "\" transform=\"scale(0.015625)\"/>\n",
       "       <path id=\"DejaVuSans-32\" d=\"M 1228 531 \n",
       "L 3431 531 \n",
       "L 3431 0 \n",
       "L 469 0 \n",
       "L 469 531 \n",
       "Q 828 903 1448 1529 \n",
       "Q 2069 2156 2228 2338 \n",
       "Q 2531 2678 2651 2914 \n",
       "Q 2772 3150 2772 3378 \n",
       "Q 2772 3750 2511 3984 \n",
       "Q 2250 4219 1831 4219 \n",
       "Q 1534 4219 1204 4116 \n",
       "Q 875 4013 500 3803 \n",
       "L 500 4441 \n",
       "Q 881 4594 1212 4672 \n",
       "Q 1544 4750 1819 4750 \n",
       "Q 2544 4750 2975 4387 \n",
       "Q 3406 4025 3406 3419 \n",
       "Q 3406 3131 3298 2873 \n",
       "Q 3191 2616 2906 2266 \n",
       "Q 2828 2175 2409 1742 \n",
       "Q 1991 1309 1228 531 \n",
       "z\n",
       "\" transform=\"scale(0.015625)\"/>\n",
       "       <path id=\"DejaVuSans-28\" d=\"M 1984 4856 \n",
       "Q 1566 4138 1362 3434 \n",
       "Q 1159 2731 1159 2009 \n",
       "Q 1159 1288 1364 580 \n",
       "Q 1569 -128 1984 -844 \n",
       "L 1484 -844 \n",
       "Q 1016 -109 783 600 \n",
       "Q 550 1309 550 2009 \n",
       "Q 550 2706 781 3412 \n",
       "Q 1013 4119 1484 4856 \n",
       "L 1984 4856 \n",
       "z\n",
       "\" transform=\"scale(0.015625)\"/>\n",
       "       <path id=\"DejaVuSans-Oblique-73\" d=\"M 3200 3397 \n",
       "L 3091 2853 \n",
       "Q 2863 2978 2609 3040 \n",
       "Q 2356 3103 2088 3103 \n",
       "Q 1634 3103 1373 2948 \n",
       "Q 1113 2794 1113 2528 \n",
       "Q 1113 2219 1719 2053 \n",
       "Q 1766 2041 1788 2034 \n",
       "L 1972 1978 \n",
       "Q 2547 1819 2739 1644 \n",
       "Q 2931 1469 2931 1166 \n",
       "Q 2931 609 2489 259 \n",
       "Q 2047 -91 1331 -91 \n",
       "Q 1053 -91 747 -37 \n",
       "Q 441 16 72 128 \n",
       "L 184 722 \n",
       "Q 500 559 806 475 \n",
       "Q 1113 391 1394 391 \n",
       "Q 1816 391 2080 572 \n",
       "Q 2344 753 2344 1031 \n",
       "Q 2344 1331 1650 1516 \n",
       "L 1591 1531 \n",
       "L 1394 1581 \n",
       "Q 956 1697 753 1886 \n",
       "Q 550 2075 550 2369 \n",
       "Q 550 2928 970 3256 \n",
       "Q 1391 3584 2113 3584 \n",
       "Q 2397 3584 2667 3537 \n",
       "Q 2938 3491 3200 3397 \n",
       "z\n",
       "\" transform=\"scale(0.015625)\"/>\n",
       "       <path id=\"DejaVuSans-29\" d=\"M 513 4856 \n",
       "L 1013 4856 \n",
       "Q 1481 4119 1714 3412 \n",
       "Q 1947 2706 1947 2009 \n",
       "Q 1947 1309 1714 600 \n",
       "Q 1481 -109 1013 -844 \n",
       "L 513 -844 \n",
       "Q 928 -128 1133 580 \n",
       "Q 1338 1288 1338 2009 \n",
       "Q 1338 2731 1133 3434 \n",
       "Q 928 4138 513 4856 \n",
       "z\n",
       "\" transform=\"scale(0.015625)\"/>\n",
       "       <path id=\"DejaVuSans-33\" d=\"M 2597 2516 \n",
       "Q 3050 2419 3304 2112 \n",
       "Q 3559 1806 3559 1356 \n",
       "Q 3559 666 3084 287 \n",
       "Q 2609 -91 1734 -91 \n",
       "Q 1441 -91 1130 -33 \n",
       "Q 819 25 488 141 \n",
       "L 488 750 \n",
       "Q 750 597 1062 519 \n",
       "Q 1375 441 1716 441 \n",
       "Q 2309 441 2620 675 \n",
       "Q 2931 909 2931 1356 \n",
       "Q 2931 1769 2642 2001 \n",
       "Q 2353 2234 1838 2234 \n",
       "L 1294 2234 \n",
       "L 1294 2753 \n",
       "L 1863 2753 \n",
       "Q 2328 2753 2575 2939 \n",
       "Q 2822 3125 2822 3475 \n",
       "Q 2822 3834 2567 4026 \n",
       "Q 2313 4219 1838 4219 \n",
       "Q 1578 4219 1281 4162 \n",
       "Q 984 4106 628 3988 \n",
       "L 628 4550 \n",
       "Q 988 4650 1302 4700 \n",
       "Q 1616 4750 1894 4750 \n",
       "Q 2613 4750 3031 4423 \n",
       "Q 3450 4097 3450 3541 \n",
       "Q 3450 3153 3228 2886 \n",
       "Q 3006 2619 2597 2516 \n",
       "z\n",
       "\" transform=\"scale(0.015625)\"/>\n",
       "      </defs>\n",
       "      <use xlink:href=\"#DejaVuSans-Oblique-5a\" transform=\"translate(0 0.254687)\"/>\n",
       "      <use xlink:href=\"#DejaVuSans-3d\" transform=\"translate(87.988281 0.254687)\"/>\n",
       "      <use xlink:href=\"#DejaVuSans-31\" transform=\"translate(191.259766 0.254687)\"/>\n",
       "      <use xlink:href=\"#DejaVuSans-2b\" transform=\"translate(274.365234 0.254687)\"/>\n",
       "      <use xlink:href=\"#DejaVuSans-31\" transform=\"translate(488.636719 44.051562) scale(0.7)\"/>\n",
       "      <use xlink:href=\"#DejaVuSans-32\" transform=\"translate(377.636719 -40.310938) scale(0.7)\"/>\n",
       "      <use xlink:href=\"#DejaVuSans-28\" transform=\"translate(422.172852 -40.310938) scale(0.7)\"/>\n",
       "      <use xlink:href=\"#DejaVuSans-Oblique-73\" transform=\"translate(449.482422 -40.310938) scale(0.7)\"/>\n",
       "      <use xlink:href=\"#DejaVuSans-2b\" transform=\"translate(499.589844 -40.310938) scale(0.7)\"/>\n",
       "      <use xlink:href=\"#DejaVuSans-32\" transform=\"translate(571.879883 -40.310938) scale(0.7)\"/>\n",
       "      <use xlink:href=\"#DejaVuSans-29\" transform=\"translate(616.416016 -40.310938) scale(0.7)\"/>\n",
       "      <use xlink:href=\"#DejaVuSans-2b\" transform=\"translate(675.708008 0.254687)\"/>\n",
       "      <use xlink:href=\"#DejaVuSans-33\" transform=\"translate(796.979492 45.046875) scale(0.7)\"/>\n",
       "      <use xlink:href=\"#DejaVuSans-32\" transform=\"translate(778.979492 -39.151563) scale(0.7)\"/>\n",
       "      <use xlink:href=\"#DejaVuSans-Oblique-73\" transform=\"translate(823.515625 -39.151563) scale(0.7)\"/>\n",
       "      <path d=\"M 377.636719 19.051562 \n",
       "L 377.636719 25.301562 \n",
       "L 643.725586 25.301562 \n",
       "L 643.725586 19.051562 \n",
       "L 377.636719 19.051562 \n",
       "z\n",
       "\"/>\n",
       "      <path d=\"M 778.979492 19.051563 \n",
       "L 778.979492 25.301563 \n",
       "L 859.985352 25.301563 \n",
       "L 859.985352 19.051563 \n",
       "L 778.979492 19.051563 \n",
       "z\n",
       "\"/>\n",
       "     </g>\n",
       "    </g>\n",
       "   </g>\n",
       "   <g id=\"text_6\">\n",
       "    <g clip-path=\"url(#p0aad9acb84)\">\n",
       "     <!-- $\\frac{2}{3}$ -->\n",
       "     <g transform=\"translate(306.3838 88.635) scale(0.145 -0.145)\">\n",
       "      <use xlink:href=\"#DejaVuSans-32\" transform=\"translate(0 44.046875) scale(0.7)\"/>\n",
       "      <use xlink:href=\"#DejaVuSans-33\" transform=\"translate(0 -39.15625) scale(0.7)\"/>\n",
       "      <path d=\"M 0 19.046875 \n",
       "L 0 25.296875 \n",
       "L 44.536133 25.296875 \n",
       "L 44.536133 19.046875 \n",
       "L 0 19.046875 \n",
       "z\n",
       "\"/>\n",
       "     </g>\n",
       "    </g>\n",
       "   </g>\n",
       "   <g id=\"text_7\">\n",
       "    <g clip-path=\"url(#p0aad9acb84)\">\n",
       "     <!-- $\\frac{1}{2}$ -->\n",
       "     <g transform=\"translate(428.7838 92.605019) scale(0.145 -0.145)\">\n",
       "      <use xlink:href=\"#DejaVuSans-31\" transform=\"translate(0 43.965625) scale(0.7)\"/>\n",
       "      <use xlink:href=\"#DejaVuSans-32\" transform=\"translate(0 -39.2375) scale(0.7)\"/>\n",
       "      <path d=\"M 0 18.965625 \n",
       "L 0 25.215625 \n",
       "L 44.536133 25.215625 \n",
       "L 44.536133 18.965625 \n",
       "L 0 18.965625 \n",
       "z\n",
       "\"/>\n",
       "     </g>\n",
       "    </g>\n",
       "   </g>\n",
       "   <g id=\"text_8\">\n",
       "    <g clip-path=\"url(#p0aad9acb84)\">\n",
       "     <!-- $4$ -->\n",
       "     <g transform=\"translate(428.3488 30.364453) scale(0.145 -0.145)\">\n",
       "      <defs>\n",
       "       <path id=\"DejaVuSans-34\" d=\"M 2419 4116 \n",
       "L 825 1625 \n",
       "L 2419 1625 \n",
       "L 2419 4116 \n",
       "z\n",
       "M 2253 4666 \n",
       "L 3047 4666 \n",
       "L 3047 1625 \n",
       "L 3713 1625 \n",
       "L 3713 1100 \n",
       "L 3047 1100 \n",
       "L 3047 0 \n",
       "L 2419 0 \n",
       "L 2419 1100 \n",
       "L 313 1100 \n",
       "L 313 1709 \n",
       "L 2253 4666 \n",
       "z\n",
       "\" transform=\"scale(0.015625)\"/>\n",
       "      </defs>\n",
       "      <use xlink:href=\"#DejaVuSans-34\" transform=\"translate(0 0.09375)\"/>\n",
       "     </g>\n",
       "    </g>\n",
       "   </g>\n",
       "   <g id=\"patch_8\">\n",
       "    <path d=\"M 126.9888 107.585 \n",
       "C 127.597441 107.585 128.181236 107.343184 128.61161 106.91281 \n",
       "C 129.041984 106.482436 129.2838 105.898641 129.2838 105.29 \n",
       "C 129.2838 104.681359 129.041984 104.097564 128.61161 103.66719 \n",
       "C 128.181236 103.236816 127.597441 102.995 126.9888 102.995 \n",
       "C 126.380159 102.995 125.796364 103.236816 125.36599 103.66719 \n",
       "C 124.935616 104.097564 124.6938 104.681359 124.6938 105.29 \n",
       "C 124.6938 105.898641 124.935616 106.482436 125.36599 106.91281 \n",
       "C 125.796364 107.343184 126.380159 107.585 126.9888 107.585 \n",
       "z\n",
       "\" clip-path=\"url(#p0aad9acb84)\" style=\"fill: #ffffff; stroke: #000000; stroke-width: 2; stroke-linejoin: miter\"/>\n",
       "   </g>\n",
       "   <g id=\"patch_9\">\n",
       "    <path d=\"M 126.9888 229.985 \n",
       "C 127.597441 229.985 128.181236 229.743184 128.61161 229.31281 \n",
       "C 129.041984 228.882436 129.2838 228.298641 129.2838 227.69 \n",
       "C 129.2838 227.081359 129.041984 226.497564 128.61161 226.06719 \n",
       "C 128.181236 225.636816 127.597441 225.395 126.9888 225.395 \n",
       "C 126.380159 225.395 125.796364 225.636816 125.36599 226.06719 \n",
       "C 124.935616 226.497564 124.6938 227.081359 124.6938 227.69 \n",
       "C 124.6938 228.298641 124.935616 228.882436 125.36599 229.31281 \n",
       "C 125.796364 229.743184 126.380159 229.985 126.9888 229.985 \n",
       "z\n",
       "\" clip-path=\"url(#p0aad9acb84)\" style=\"fill: #ffffff; stroke: #000000; stroke-width: 2; stroke-linejoin: miter\"/>\n",
       "   </g>\n",
       "   <g id=\"patch_10\">\n",
       "    <path d=\"M 371.7888 107.585 \n",
       "C 372.397441 107.585 372.981236 107.343184 373.41161 106.91281 \n",
       "C 373.841984 106.482436 374.0838 105.898641 374.0838 105.29 \n",
       "C 374.0838 104.681359 373.841984 104.097564 373.41161 103.66719 \n",
       "C 372.981236 103.236816 372.397441 102.995 371.7888 102.995 \n",
       "C 371.180159 102.995 370.596364 103.236816 370.16599 103.66719 \n",
       "C 369.735616 104.097564 369.4938 104.681359 369.4938 105.29 \n",
       "C 369.4938 105.898641 369.735616 106.482436 370.16599 106.91281 \n",
       "C 370.596364 107.343184 371.180159 107.585 371.7888 107.585 \n",
       "z\n",
       "\" clip-path=\"url(#p0aad9acb84)\" style=\"stroke: #000000; stroke-width: 2; stroke-linejoin: miter\"/>\n",
       "   </g>\n",
       "   <g id=\"patch_11\">\n",
       "    <path d=\"M 494.1888 107.585 \n",
       "C 494.797441 107.585 495.381236 107.343184 495.81161 106.91281 \n",
       "C 496.241984 106.482436 496.4838 105.898641 496.4838 105.29 \n",
       "C 496.4838 104.681359 496.241984 104.097564 495.81161 103.66719 \n",
       "C 495.381236 103.236816 494.797441 102.995 494.1888 102.995 \n",
       "C 493.580159 102.995 492.996364 103.236816 492.56599 103.66719 \n",
       "C 492.135616 104.097564 491.8938 104.681359 491.8938 105.29 \n",
       "C 491.8938 105.898641 492.135616 106.482436 492.56599 106.91281 \n",
       "C 492.996364 107.343184 493.580159 107.585 494.1888 107.585 \n",
       "z\n",
       "\" clip-path=\"url(#p0aad9acb84)\" style=\"stroke: #000000; stroke-width: 2; stroke-linejoin: miter\"/>\n",
       "   </g>\n",
       "  </g>\n",
       " </g>\n",
       " <defs>\n",
       "  <clipPath id=\"p0aad9acb84\">\n",
       "   <rect x=\"7.2\" y=\"7.2\" width=\"551.2488\" height=\"284.75\"/>\n",
       "  </clipPath>\n",
       " </defs>\n",
       "</svg>\n"
      ],
      "text/plain": [
       "<schemdraw.schemdraw.Drawing at 0x7f1348d3f850>"
      ]
     },
     "metadata": {},
     "output_type": "display_data"
    }
   ],
   "source": [
    "print_subtitle('Foster serie')\n",
    "\n",
    "# Tratamos a nuestra función imitancia como una Z\n",
    "dibujar_foster_serie(k0, koo, ki_wi, z_exc = ZRC_foster)\n",
    "\n",
    "\n"
   ]
  },
  {
   "cell_type": "code",
   "execution_count": 5,
   "metadata": {},
   "outputs": [
    {
     "data": {
      "text/latex": [
       "$\\displaystyle k_0=\\text{None}$"
      ],
      "text/plain": [
       "<IPython.core.display.Math object>"
      ]
     },
     "metadata": {},
     "output_type": "display_data"
    },
    {
     "data": {
      "text/latex": [
       "$\\displaystyle k_1 = \\left[\\left[  \\frac{1}{k_1}, \\frac{\\sigma_1^2}{k_1} \\right]\\right]=\\left[ \\left[ \\frac{24}{5}, \\  \\frac{4}{5}\\right], \\  \\left[ 8, \\  4\\right]\\right]$"
      ],
      "text/plain": [
       "<IPython.core.display.Math object>"
      ]
     },
     "metadata": {},
     "output_type": "display_data"
    },
    {
     "data": {
      "text/latex": [
       "$\\displaystyle k_k=\\frac{1}{2}$"
      ],
      "text/plain": [
       "<IPython.core.display.Math object>"
      ]
     },
     "metadata": {},
     "output_type": "display_data"
    },
    {
     "data": {
      "text/latex": [
       "$\\displaystyle Y_{RC}(s)=\\frac{2 s^{2} + 8 s + 6}{s^{2} + 8 s + 12}=\\frac{5 s}{4 s + 24} + \\frac{s}{4 s + 8} + \\frac{1}{2}$"
      ],
      "text/plain": [
       "<IPython.core.display.Math object>"
      ]
     },
     "metadata": {},
     "output_type": "display_data"
    }
   ],
   "source": [
    "# Se expande YRC a la Foster. Notar que se expande YRC/s, como si fuera ZRC. (Ver Kuo 331)\n",
    "k0, koo, ki_wi, kk, YRC_foster = foster(YRC/s)\n",
    "\n",
    "# Luego lo multiplicamos por s para obtener la YRC original.\n",
    "k0, koo, ki_wi, kk, YRC_foster = foster_zRC2yRC(k0, koo, ki_wi, kk, YRC_foster)\n",
    "\n",
    "print_latex(a_equal_b_latex_s('k_0', k0))\n",
    "\n",
    "print_latex(a_equal_b_latex_s(r'k_1 = \\left[\\left[  \\frac{1}{k_1}, \\frac{\\sigma_1^2}{k_1} \\right]\\right]', ki_wi ))\n",
    "\n",
    "print_latex(a_equal_b_latex_s('k_k', kk))\n",
    "\n",
    "print_latex(a_equal_b_latex_s(a_equal_b_latex_s('Y_{RC}(s)', YRC)[1:-1], YRC_foster ))\n"
   ]
  },
  {
   "cell_type": "markdown",
   "metadata": {},
   "source": [
    "Luego queda solo implementar la inmitancia como impedancia o admitancia. Para ello se dispone de funciones de dibujo de redes:"
   ]
  },
  {
   "cell_type": "markdown",
   "metadata": {},
   "source": [
    "Como se puede ver, la suma de términos simples, resulta en que cada término será una impedancia asociada en serie. Luego si se asume F(s) como admitancia Y(s), la red resultante estará asociada en paralelo."
   ]
  },
  {
   "cell_type": "code",
   "execution_count": 6,
   "metadata": {},
   "outputs": [
    {
     "data": {
      "text/markdown": [
       "#### Foster derivación"
      ],
      "text/plain": [
       "<IPython.core.display.Markdown object>"
      ]
     },
     "metadata": {},
     "output_type": "display_data"
    },
    {
     "ename": "NameError",
     "evalue": "name 'FF' is not defined",
     "output_type": "error",
     "traceback": [
      "\u001b[0;31m---------------------------------------------------------------------------\u001b[0m",
      "\u001b[0;31mNameError\u001b[0m                                 Traceback (most recent call last)",
      "Cell \u001b[0;32mIn[6], line 3\u001b[0m\n\u001b[1;32m      1\u001b[0m print_subtitle(\u001b[38;5;124m'\u001b[39m\u001b[38;5;124mFoster derivación\u001b[39m\u001b[38;5;124m'\u001b[39m)\n\u001b[0;32m----> 3\u001b[0m print_latex(a_equal_b_latex_s(a_equal_b_latex_s(\u001b[38;5;124m'\u001b[39m\u001b[38;5;124mY(s)=F(s)\u001b[39m\u001b[38;5;124m'\u001b[39m, \u001b[43mFF\u001b[49m)[\u001b[38;5;241m1\u001b[39m:\u001b[38;5;241m-\u001b[39m\u001b[38;5;241m1\u001b[39m], FF_foster ))\n\u001b[1;32m      5\u001b[0m \u001b[38;5;66;03m# Tratamos a nuestra función imitancia como una Y\u001b[39;00m\n\u001b[1;32m      6\u001b[0m dibujar_foster_derivacion(k0, koo, ki_wi, y_exc \u001b[38;5;241m=\u001b[39m FF)\n",
      "\u001b[0;31mNameError\u001b[0m: name 'FF' is not defined"
     ]
    }
   ],
   "source": [
    "print_subtitle('Foster derivación')\n",
    "\n",
    "print_latex(a_equal_b_latex_s(a_equal_b_latex_s('Y(s)=F(s)', FF)[1:-1], FF_foster ))\n",
    "\n",
    "# Tratamos a nuestra función imitancia como una Y\n",
    "dibujar_foster_derivacion(k0, koo, ki_wi, y_exc = FF)\n",
    "\n"
   ]
  },
  {
   "cell_type": "markdown",
   "metadata": {},
   "source": [
    "Como puede verse, el método de Foster da lugar a redes con $2.1 + 2 = 4$ componentes reactivos en ambos casos. Se dice que es un método **canónico** dado que 4 es la menor cantidad de componentes con la que la función F(s) puede ser implementada con elementos pasivos.\n"
   ]
  },
  {
   "cell_type": "markdown",
   "metadata": {},
   "source": [
    "### Expansión en fracciones continuas: Método de Cauer\n",
    "\n",
    "Del mismo modo que el método de Foster se sutenta en la expansión en fracciones simples, el de Cauer consiste en la expansión en [fracciones continuas](https://en.wikipedia.org/wiki/Network_synthesis#Cauer_synthesis). Con la salvedad que puede representarse la expansión mediante residuos $k_0$ y $k_\\infty$.\n",
    "\n",
    "$$ F(s)= \\frac{k_0}{s} + \\frac{1}{ \\frac{k_1}{s} + \\frac{1}{ \\frac{k_2}{s} + \\cdots } } = \n",
    "         k_{\\infty,1}.s + \\frac{1}{ k_{\\infty,2}.s + \\frac{1}{ k_{\\infty,3}.s + \\cdots } } $$\n",
    "\n",
    "en este caso cualquiera de ambas expansiones da lugar a redes escalera, por ejemplo si se tratara de una impedancia:\n",
    "\n",
    "$$ Z(s)= \\frac{1}{s.C_1} + \\frac{1}{ \\frac{1}{s.L_1} + \\frac{1}{ \\frac{1}{s.C_2} + \\cdots } } = \n",
    "         s.L_1 + \\frac{1}{ s.C_1 + \\frac{1}{ s.L_2 + \\cdots } } $$\n",
    "\n",
    "o de una admitancia:\n",
    "\n",
    "$$ Y(s)= \\frac{1}{s.L_1} + \\frac{1}{ \\frac{1}{s.C_1} + \\frac{1}{ \\frac{1}{s.L_2} + \\cdots } } = \n",
    "         s.C_1 + \\frac{1}{ s.L_1 + \\frac{1}{ s.C_2 + \\cdots } } $$\n",
    "\n",
    "se ve claramente como una función de inmitancia da lugar a 4 redes diferentes. Analizaremos la siguiente función de inmitancia\n"
   ]
  },
  {
   "cell_type": "code",
   "execution_count": null,
   "metadata": {},
   "outputs": [],
   "source": [
    "from pytc2.sintesis_dipolo import cauer_LC\n",
    "from pytc2.dibujar import dibujar_cauer_LC\n",
    "\n",
    "\n",
    "# Sea la siguiente función de excitación\n",
    "FF = (2*s**4 + 20*s**2 + 18)/(s**3 + 4*s)\n",
    "\n",
    "print_latex(a_equal_b_latex_s('F(s)', FF))\n"
   ]
  },
  {
   "cell_type": "markdown",
   "metadata": {},
   "source": [
    "\n",
    "## Cauer 1: remociones en $\\infty$\n",
    "\n",
    "Se comienza con la primera forma del método, es decir cuando se realizan remociones de los residuos en infinito."
   ]
  },
  {
   "cell_type": "code",
   "execution_count": null,
   "metadata": {},
   "outputs": [],
   "source": [
    "\n",
    "# Implementaremos FF mediante Cauer 1 o remociones continuas en infinito\n",
    "koo, F_cauer_oo, rem = cauer_LC(FF, remover_en_inf=True)\n",
    "\n",
    "print_latex(a_equal_b_latex_s(a_equal_b_latex_s('F(s)', FF)[1:-1], F_cauer_oo ))\n",
    "\n",
    "# Tratamos a nuestra función inmitancia como una Z\n",
    "dibujar_cauer_LC(koo, z_exc = F_cauer_oo)\n",
    "\n",
    "# Tratamos a nuestra función inmitancia como una Y\n",
    "dibujar_cauer_LC(koo, y_exc = F_cauer_oo)\n",
    "\n"
   ]
  },
  {
   "cell_type": "markdown",
   "metadata": {},
   "source": [
    "Se observa, como es de esperarse, que interpretar la inmitancia como impedancia o admitancia utilizando el mismo método, Cauer 1 en este caso, da lugar a redes **duales**.\n",
    "\n",
    "## Cauer 2: remociones en 0 o DC\n",
    "\n",
    "Repetimos ahora para remociones de los residuos en 0 Hz, obtendremos dos redes también duales."
   ]
  },
  {
   "cell_type": "code",
   "execution_count": null,
   "metadata": {},
   "outputs": [],
   "source": [
    "\n",
    "# Implementaremos F mediante Cauer 2 o remociones continuas en cero\n",
    "k0, F_cauer_0, rem = cauer_LC(FF, remover_en_inf=False)\n",
    "\n",
    "print_latex(a_equal_b_latex_s(a_equal_b_latex_s('F(s)', FF)[1:-1], F_cauer_0 ))\n",
    "\n",
    "# Tratamos a nuestra función inmitancia como una Z\n",
    "dibujar_cauer_LC(k0, z_exc = F_cauer_0)\n",
    "\n",
    "# Tratamos a nuestra función inmitancia como una Y\n",
    "dibujar_cauer_LC(k0, y_exc = F_cauer_0)\n",
    "\n"
   ]
  },
  {
   "cell_type": "markdown",
   "metadata": {},
   "source": [
    "Ambas redes duales, tienen características en común como ser que ambas tienen capacitores en serie e inductores en derivación. Esto contrasta con las redes halladas mediante Cauer 1, donde observamos lo contrario: inductores en serie y capacitores en derivación. Está claro que Cauer 1 da lugar a redes que, en caso **que imaginemos un puerto de salida en el extremo derecho de la red**, serían filtros **pasabajo**, mientras que sintetizar una red mediante Cauer 2 da lugar a una red escalera **pasa-altos**.\n",
    "\n",
    "Finalmente, decir que habrá redes que al tener la misma función de exitación, cargarán de forma idéntica al puerto de entrada, pero en caso de asumir una eventual transferencia respecto a un puerto en el otro extremo de la red, la transferencia **será complementaria** (pasabajo-pasaalto):"
   ]
  },
  {
   "cell_type": "code",
   "execution_count": null,
   "metadata": {},
   "outputs": [],
   "source": [
    "# Tratamos a nuestra función inmitancia como una Z\n",
    "dibujar_cauer_LC(koo, z_exc = F_cauer_oo)\n",
    "\n",
    "# Tratamos a nuestra función inmitancia como una Z\n",
    "dibujar_cauer_LC(k0, z_exc = F_cauer_0)\n"
   ]
  }
 ],
 "metadata": {
  "kernelspec": {
   "display_name": "Python 3 (ipykernel)",
   "language": "python",
   "name": "python3"
  },
  "language_info": {
   "codemirror_mode": {
    "name": "ipython",
    "version": 3
   },
   "file_extension": ".py",
   "mimetype": "text/x-python",
   "name": "python",
   "nbconvert_exporter": "python",
   "pygments_lexer": "ipython3",
   "version": "3.10.12"
  },
  "varInspector": {
   "cols": {
    "lenName": 16,
    "lenType": 16,
    "lenVar": 40
   },
   "kernels_config": {
    "python": {
     "delete_cmd_postfix": "",
     "delete_cmd_prefix": "del ",
     "library": "var_list.py",
     "varRefreshCmd": "print(var_dic_list())"
    },
    "r": {
     "delete_cmd_postfix": ") ",
     "delete_cmd_prefix": "rm(",
     "library": "var_list.r",
     "varRefreshCmd": "cat(var_dic_list()) "
    }
   },
   "types_to_exclude": [
    "module",
    "function",
    "builtin_function_or_method",
    "instance",
    "_Feature"
   ],
   "window_display": false
  }
 },
 "nbformat": 4,
 "nbformat_minor": 2
}
