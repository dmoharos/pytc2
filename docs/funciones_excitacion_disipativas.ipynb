{
 "cells": [
  {
   "cell_type": "markdown",
   "metadata": {},
   "source": [
    "# Síntesis de funciones de excitación RC-RL\n",
    "<img src=\"./logo_UTN.svg\" align=\"right\" width=\"150\" /> \n",
    "\n",
    "#### Por Mariano Llamedo Soria"
   ]
  },
  {
   "cell_type": "markdown",
   "metadata": {},
   "source": [
    "### Resumen \n",
    "Se presentan los métodos de Foster y Cauer para la síntesis de redes no disipativas. Ambos métodos nos permitirán implementar cualquier función de excitación, real y positiva (FRP), en una red eléctrica canónica, es decir, con la menor cantidad posible de componentes.\n",
    "* Funciones de dibujo de redes: [dibujar_foster_serie](), [dibujar_foster_derivacion](), [dibujar_cauer_LC]()\n",
    "* Funciones de síntesis de dipolos: [cauer_LC](), [foster]()\n",
    "* Funciones para presentación de markdown y latex: [print_latex](), [print_subtitle](), [a_equal_b_latex_s]()\n"
   ]
  },
  {
   "cell_type": "markdown",
   "metadata": {},
   "source": [
    "### Introducción a las funciones de excitación RC-RL\n",
    "\n",
    "Se extiende ahora el estudio a las funciones de exitación (FE) compuestas **solamente** por dos elementos, siendo uno de ellos necesariamente disipativo. Esto significa redes  RC ó RL, cuya inmitancia seguirá siendo $F(s)$. En este documento se ananalizan solo las redes RC, ya que han tenido mayor importancia tecnológica, pero las RL pueden comprenderse mediante las siguientes dualidad:\n",
    "\n",
    "* $Z_{RC} \\sim Y_{RL}$\n",
    "* $Z_{RL} \\sim Y_{RC}$\n",
    "\n",
    "es decir que se puede pensar en una $Z_{RC}$ *a la Foster*\n",
    "\n",
    "$$ Z_{RC}(s)= \\frac{k_0}{s} + k_\\infty + \\sum_{i=1}^N\\frac{k_i}{s+\\sigma_i^2} $$\n",
    "\n",
    "o una $Y_{RC}$\n",
    "\n",
    "$$ Y_{RC}(s)= k_0 + k_\\infty.s + \\sum_{i=1}^N\\frac{k_i.s}{s+\\sigma_i^2} $$\n",
    "\n",
    "dichas expresiones tienen implicancias circuitales que conviene tenerlas presentes antes de continuar con los siguientes ejemplos. Se refiere al lector interesado al cap. 4 del libro de Araujo *Síntesis de redes lineales*, o a *Network Synthesis* de Franklin Kuo.\n",
    "\n",
    "La expansión en fracciones continuas del método de Cauer también dará lugar a redes escalera como pronto se mostrará.\n"
   ]
  },
  {
   "cell_type": "code",
   "execution_count": 5,
   "metadata": {
    "scrolled": true
   },
   "outputs": [],
   "source": [
    "\n",
    "import sympy as sp\n",
    "\n",
    "# Ahora importamos las funciones de PyTC2\n",
    "\n",
    "from pytc2.sintesis_dipolo import cauer_RC, foster, foster_zRC2yRC\n",
    "from pytc2.dibujar import dibujar_cauer_RC_RL, dibujar_foster_derivacion, dibujar_foster_serie\n",
    "from pytc2.general import print_latex, print_subtitle, a_equal_b_latex_s\n",
    "from IPython.display import display,  Markdown\n"
   ]
  },
  {
   "cell_type": "markdown",
   "metadata": {},
   "source": []
  },
  {
   "cell_type": "code",
   "execution_count": 2,
   "metadata": {},
   "outputs": [
    {
     "data": {
      "text/latex": [
       "$\\displaystyle Z_{RC}(s)=\\frac{s^{2} + 4 s + 3}{s^{2} + 2 s}$"
      ],
      "text/plain": [
       "<IPython.core.display.Math object>"
      ]
     },
     "metadata": {},
     "output_type": "display_data"
    },
    {
     "data": {
      "text/latex": [
       "$\\displaystyle Y_{RC}(s)=\\frac{2 s^{2} + 8 s + 6}{s^{2} + 8 s + 12}$"
      ],
      "text/plain": [
       "<IPython.core.display.Math object>"
      ]
     },
     "metadata": {},
     "output_type": "display_data"
    }
   ],
   "source": [
    "# Resolución simbólica\n",
    "s = sp.symbols('s ', complex=True)\n",
    "\n",
    "# Sea la siguiente función de excitación\n",
    "ZRC = (s**2 + 4*s + 3)/(s**2 + 2*s)\n",
    "YRC = 2*(s**2 + 4*s + 3)/(s**2 + 8*s + 12)\n",
    "\n",
    "print_latex(a_equal_b_latex_s('Z_{RC}(s)', ZRC))\n",
    "print_latex(a_equal_b_latex_s('Y_{RC}(s)', YRC))\n"
   ]
  },
  {
   "cell_type": "code",
   "execution_count": null,
   "metadata": {},
   "outputs": [],
   "source": [
    "\n"
   ]
  },
  {
   "cell_type": "code",
   "execution_count": 3,
   "metadata": {},
   "outputs": [
    {
     "data": {
      "text/latex": [
       "$\\displaystyle k_0=\\frac{3}{2}$"
      ],
      "text/plain": [
       "<IPython.core.display.Math object>"
      ]
     },
     "metadata": {},
     "output_type": "display_data"
    },
    {
     "data": {
      "text/latex": [
       "$\\displaystyle k_1 = \\left[\\left[  \\frac{1}{k_1}, \\frac{\\sigma_1^2}{k_1} \\right]\\right]=\\left[ \\left[ 2, \\  4\\right]\\right]$"
      ],
      "text/plain": [
       "<IPython.core.display.Math object>"
      ]
     },
     "metadata": {},
     "output_type": "display_data"
    },
    {
     "data": {
      "text/latex": [
       "$\\displaystyle k_k=1$"
      ],
      "text/plain": [
       "<IPython.core.display.Math object>"
      ]
     },
     "metadata": {},
     "output_type": "display_data"
    },
    {
     "data": {
      "text/latex": [
       "$\\displaystyle Z_{RC}(s)=\\frac{s^{2} + 4 s + 3}{s^{2} + 2 s}=1 + \\frac{1}{2 \\left(s + 2\\right)} + \\frac{3}{2 s}$"
      ],
      "text/plain": [
       "<IPython.core.display.Math object>"
      ]
     },
     "metadata": {},
     "output_type": "display_data"
    }
   ],
   "source": [
    "# Se expande ZRC a la Foster\n",
    "k0, koo, ki_wi, kk, ZRC_foster = foster(ZRC)\n",
    "\n",
    "print_latex(a_equal_b_latex_s('k_0', k0))\n",
    "\n",
    "print_latex(a_equal_b_latex_s(r'k_1 = \\left[\\left[  \\frac{1}{k_1}, \\frac{\\sigma_1^2}{k_1} \\right]\\right]', ki_wi ))\n",
    "\n",
    "print_latex(a_equal_b_latex_s('k_k', kk))\n",
    "\n",
    "print_latex(a_equal_b_latex_s(a_equal_b_latex_s('Z_{RC}(s)', ZRC)[1:-1], ZRC_foster ))\n"
   ]
  },
  {
   "cell_type": "code",
   "execution_count": 7,
   "metadata": {},
   "outputs": [
    {
     "data": {
      "text/latex": [
       "$\\displaystyle k_0=\\text{None}$"
      ],
      "text/plain": [
       "<IPython.core.display.Math object>"
      ]
     },
     "metadata": {},
     "output_type": "display_data"
    },
    {
     "data": {
      "text/latex": [
       "$\\displaystyle k_1 = \\left[\\left[  \\frac{1}{k_1}, \\frac{\\sigma_1^2}{k_1} \\right]\\right]=\\left[ \\left[ \\frac{24}{5}, \\  \\frac{4}{5}\\right], \\  \\left[ 8, \\  4\\right]\\right]$"
      ],
      "text/plain": [
       "<IPython.core.display.Math object>"
      ]
     },
     "metadata": {},
     "output_type": "display_data"
    },
    {
     "data": {
      "text/latex": [
       "$\\displaystyle k_k=\\frac{1}{2}$"
      ],
      "text/plain": [
       "<IPython.core.display.Math object>"
      ]
     },
     "metadata": {},
     "output_type": "display_data"
    },
    {
     "data": {
      "text/latex": [
       "$\\displaystyle Y_{RC}(s)=\\frac{2 s^{2} + 8 s + 6}{s^{2} + 8 s + 12}=\\frac{5 s}{4 s + 24} + \\frac{s}{4 s + 8} + \\frac{1}{2}$"
      ],
      "text/plain": [
       "<IPython.core.display.Math object>"
      ]
     },
     "metadata": {},
     "output_type": "display_data"
    }
   ],
   "source": [
    "# Se expande YRC a la Foster. Notar que se expande YRC/s\n",
    "k0, koo, ki_wi, kk, YRC_foster = foster(YRC/s)\n",
    "\n",
    "k0, koo, ki_wi, kk, YRC_foster = foster_zRC2yRC(k0, koo, ki_wi, kk, YRC_foster)\n",
    "\n",
    "print_latex(a_equal_b_latex_s('k_0', k0))\n",
    "\n",
    "print_latex(a_equal_b_latex_s(r'k_1 = \\left[\\left[  \\frac{1}{k_1}, \\frac{\\sigma_1^2}{k_1} \\right]\\right]', ki_wi ))\n",
    "\n",
    "print_latex(a_equal_b_latex_s('k_k', kk))\n",
    "\n",
    "print_latex(a_equal_b_latex_s(a_equal_b_latex_s('Y_{RC}(s)', YRC)[1:-1], YRC_foster ))\n"
   ]
  },
  {
   "cell_type": "markdown",
   "metadata": {},
   "source": [
    "Luego queda solo implementar la inmitancia como impedancia o admitancia. Para ello se dispone de funciones de dibujo de redes:"
   ]
  },
  {
   "cell_type": "code",
   "execution_count": 8,
   "metadata": {
    "scrolled": true
   },
   "outputs": [
    {
     "data": {
      "text/markdown": [
       "#### Foster serie"
      ],
      "text/plain": [
       "<IPython.core.display.Markdown object>"
      ]
     },
     "metadata": {},
     "output_type": "display_data"
    },
    {
     "ename": "NameError",
     "evalue": "name 'FF' is not defined",
     "output_type": "error",
     "traceback": [
      "\u001b[0;31m---------------------------------------------------------------------------\u001b[0m",
      "\u001b[0;31mNameError\u001b[0m                                 Traceback (most recent call last)",
      "Cell \u001b[0;32mIn[8], line 3\u001b[0m\n\u001b[1;32m      1\u001b[0m print_subtitle(\u001b[38;5;124m'\u001b[39m\u001b[38;5;124mFoster serie\u001b[39m\u001b[38;5;124m'\u001b[39m)\n\u001b[0;32m----> 3\u001b[0m print_latex(a_equal_b_latex_s(a_equal_b_latex_s(\u001b[38;5;124m'\u001b[39m\u001b[38;5;124mZ(s)=F(s)\u001b[39m\u001b[38;5;124m'\u001b[39m, \u001b[43mFF\u001b[49m)[\u001b[38;5;241m1\u001b[39m:\u001b[38;5;241m-\u001b[39m\u001b[38;5;241m1\u001b[39m], FF_foster ))\n\u001b[1;32m      5\u001b[0m \u001b[38;5;66;03m# Tratamos a nuestra función imitancia como una Z\u001b[39;00m\n\u001b[1;32m      6\u001b[0m dibujar_foster_serie(k0, koo, ki_wi, z_exc \u001b[38;5;241m=\u001b[39m FF)\n",
      "\u001b[0;31mNameError\u001b[0m: name 'FF' is not defined"
     ]
    }
   ],
   "source": [
    "print_subtitle('Foster serie')\n",
    "\n",
    "print_latex(a_equal_b_latex_s(a_equal_b_latex_s('Z(s)=F(s)', FF)[1:-1], FF_foster ))\n",
    "\n",
    "# Tratamos a nuestra función imitancia como una Z\n",
    "dibujar_foster_serie(k0, koo, ki_wi, z_exc = FF)\n",
    "\n",
    "\n"
   ]
  },
  {
   "cell_type": "markdown",
   "metadata": {},
   "source": [
    "Como se puede ver, la suma de términos simples, resulta en que cada término será una impedancia asociada en serie. Luego si se asume F(s) como admitancia Y(s), la red resultante estará asociada en paralelo."
   ]
  },
  {
   "cell_type": "code",
   "execution_count": null,
   "metadata": {},
   "outputs": [],
   "source": [
    "print_subtitle('Foster derivación')\n",
    "\n",
    "print_latex(a_equal_b_latex_s(a_equal_b_latex_s('Y(s)=F(s)', FF)[1:-1], FF_foster ))\n",
    "\n",
    "# Tratamos a nuestra función imitancia como una Y\n",
    "dibujar_foster_derivacion(k0, koo, ki_wi, y_exc = FF)\n",
    "\n"
   ]
  },
  {
   "cell_type": "markdown",
   "metadata": {},
   "source": [
    "Como puede verse, el método de Foster da lugar a redes con $2.1 + 2 = 4$ componentes reactivos en ambos casos. Se dice que es un método **canónico** dado que 4 es la menor cantidad de componentes con la que la función F(s) puede ser implementada con elementos pasivos.\n"
   ]
  },
  {
   "cell_type": "markdown",
   "metadata": {},
   "source": [
    "### Expansión en fracciones continuas: Método de Cauer\n",
    "\n",
    "Del mismo modo que el método de Foster se sutenta en la expansión en fracciones simples, el de Cauer consiste en la expansión en [fracciones continuas](https://en.wikipedia.org/wiki/Network_synthesis#Cauer_synthesis). Con la salvedad que puede representarse la expansión mediante residuos $k_0$ y $k_\\infty$.\n",
    "\n",
    "$$ F(s)= \\frac{k_0}{s} + \\frac{1}{ \\frac{k_1}{s} + \\frac{1}{ \\frac{k_2}{s} + \\cdots } } = \n",
    "         k_{\\infty,1}.s + \\frac{1}{ k_{\\infty,2}.s + \\frac{1}{ k_{\\infty,3}.s + \\cdots } } $$\n",
    "\n",
    "en este caso cualquiera de ambas expansiones da lugar a redes escalera, por ejemplo si se tratara de una impedancia:\n",
    "\n",
    "$$ Z(s)= \\frac{1}{s.C_1} + \\frac{1}{ \\frac{1}{s.L_1} + \\frac{1}{ \\frac{1}{s.C_2} + \\cdots } } = \n",
    "         s.L_1 + \\frac{1}{ s.C_1 + \\frac{1}{ s.L_2 + \\cdots } } $$\n",
    "\n",
    "o de una admitancia:\n",
    "\n",
    "$$ Y(s)= \\frac{1}{s.L_1} + \\frac{1}{ \\frac{1}{s.C_1} + \\frac{1}{ \\frac{1}{s.L_2} + \\cdots } } = \n",
    "         s.C_1 + \\frac{1}{ s.L_1 + \\frac{1}{ s.C_2 + \\cdots } } $$\n",
    "\n",
    "se ve claramente como una función de inmitancia da lugar a 4 redes diferentes. Analizaremos la siguiente función de inmitancia\n"
   ]
  },
  {
   "cell_type": "code",
   "execution_count": null,
   "metadata": {},
   "outputs": [],
   "source": [
    "from pytc2.sintesis_dipolo import cauer_LC\n",
    "from pytc2.dibujar import dibujar_cauer_LC\n",
    "\n",
    "\n",
    "# Sea la siguiente función de excitación\n",
    "FF = (2*s**4 + 20*s**2 + 18)/(s**3 + 4*s)\n",
    "\n",
    "print_latex(a_equal_b_latex_s('F(s)', FF))\n"
   ]
  },
  {
   "cell_type": "markdown",
   "metadata": {},
   "source": [
    "\n",
    "## Cauer 1: remociones en $\\infty$\n",
    "\n",
    "Se comienza con la primera forma del método, es decir cuando se realizan remociones de los residuos en infinito."
   ]
  },
  {
   "cell_type": "code",
   "execution_count": null,
   "metadata": {},
   "outputs": [],
   "source": [
    "\n",
    "# Implementaremos FF mediante Cauer 1 o remociones continuas en infinito\n",
    "koo, F_cauer_oo, rem = cauer_LC(FF, remover_en_inf=True)\n",
    "\n",
    "print_latex(a_equal_b_latex_s(a_equal_b_latex_s('F(s)', FF)[1:-1], F_cauer_oo ))\n",
    "\n",
    "# Tratamos a nuestra función inmitancia como una Z\n",
    "dibujar_cauer_LC(koo, z_exc = F_cauer_oo)\n",
    "\n",
    "# Tratamos a nuestra función inmitancia como una Y\n",
    "dibujar_cauer_LC(koo, y_exc = F_cauer_oo)\n",
    "\n"
   ]
  },
  {
   "cell_type": "markdown",
   "metadata": {},
   "source": [
    "Se observa, como es de esperarse, que interpretar la inmitancia como impedancia o admitancia utilizando el mismo método, Cauer 1 en este caso, da lugar a redes **duales**.\n",
    "\n",
    "## Cauer 2: remociones en 0 o DC\n",
    "\n",
    "Repetimos ahora para remociones de los residuos en 0 Hz, obtendremos dos redes también duales."
   ]
  },
  {
   "cell_type": "code",
   "execution_count": null,
   "metadata": {},
   "outputs": [],
   "source": [
    "\n",
    "# Implementaremos F mediante Cauer 2 o remociones continuas en cero\n",
    "k0, F_cauer_0, rem = cauer_LC(FF, remover_en_inf=False)\n",
    "\n",
    "print_latex(a_equal_b_latex_s(a_equal_b_latex_s('F(s)', FF)[1:-1], F_cauer_0 ))\n",
    "\n",
    "# Tratamos a nuestra función inmitancia como una Z\n",
    "dibujar_cauer_LC(k0, z_exc = F_cauer_0)\n",
    "\n",
    "# Tratamos a nuestra función inmitancia como una Y\n",
    "dibujar_cauer_LC(k0, y_exc = F_cauer_0)\n",
    "\n"
   ]
  },
  {
   "cell_type": "markdown",
   "metadata": {},
   "source": [
    "Ambas redes duales, tienen características en común como ser que ambas tienen capacitores en serie e inductores en derivación. Esto contrasta con las redes halladas mediante Cauer 1, donde observamos lo contrario: inductores en serie y capacitores en derivación. Está claro que Cauer 1 da lugar a redes que, en caso **que imaginemos un puerto de salida en el extremo derecho de la red**, serían filtros **pasabajo**, mientras que sintetizar una red mediante Cauer 2 da lugar a una red escalera **pasa-altos**.\n",
    "\n",
    "Finalmente, decir que habrá redes que al tener la misma función de exitación, cargarán de forma idéntica al puerto de entrada, pero en caso de asumir una eventual transferencia respecto a un puerto en el otro extremo de la red, la transferencia **será complementaria** (pasabajo-pasaalto):"
   ]
  },
  {
   "cell_type": "code",
   "execution_count": null,
   "metadata": {},
   "outputs": [],
   "source": [
    "# Tratamos a nuestra función inmitancia como una Z\n",
    "dibujar_cauer_LC(koo, z_exc = F_cauer_oo)\n",
    "\n",
    "# Tratamos a nuestra función inmitancia como una Z\n",
    "dibujar_cauer_LC(k0, z_exc = F_cauer_0)\n"
   ]
  }
 ],
 "metadata": {
  "kernelspec": {
   "display_name": "Python 3 (ipykernel)",
   "language": "python",
   "name": "python3"
  },
  "language_info": {
   "codemirror_mode": {
    "name": "ipython",
    "version": 3
   },
   "file_extension": ".py",
   "mimetype": "text/x-python",
   "name": "python",
   "nbconvert_exporter": "python",
   "pygments_lexer": "ipython3",
   "version": "3.10.12"
  },
  "varInspector": {
   "cols": {
    "lenName": 16,
    "lenType": 16,
    "lenVar": 40
   },
   "kernels_config": {
    "python": {
     "delete_cmd_postfix": "",
     "delete_cmd_prefix": "del ",
     "library": "var_list.py",
     "varRefreshCmd": "print(var_dic_list())"
    },
    "r": {
     "delete_cmd_postfix": ") ",
     "delete_cmd_prefix": "rm(",
     "library": "var_list.r",
     "varRefreshCmd": "cat(var_dic_list()) "
    }
   },
   "types_to_exclude": [
    "module",
    "function",
    "builtin_function_or_method",
    "instance",
    "_Feature"
   ],
   "window_display": false
  }
 },
 "nbformat": 4,
 "nbformat_minor": 2
}
