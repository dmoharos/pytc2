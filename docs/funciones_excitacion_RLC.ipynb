{
 "cells": [
  {
   "cell_type": "markdown",
   "metadata": {},
   "source": [
    "# Síntesis de algunas funciones RLC\n",
    "<img src=\"./logo_UTN.svg\" align=\"right\" width=\"150\" /> \n",
    "\n",
    "#### Por Mariano Llamedo Soria"
   ]
  },
  {
   "cell_type": "markdown",
   "metadata": {},
   "source": [
    "### Resumen \n",
    "bla.\n",
    "* Funciones de dibujo de redes: [dibujar_foster_serie](), [dibujar_foster_derivacion](), [dibujar_cauer_RC_RL]()\n",
    "* Funciones de síntesis de dipolos: [cauer_RC](), [foster](), [foster_zRC2yRC]()\n",
    "* Funciones para presentación de markdown y latex: [print_latex](), [print_subtitle](), [a_equal_b_latex_s]()\n"
   ]
  },
  {
   "cell_type": "markdown",
   "metadata": {},
   "source": [
    "### Introducción\n",
    "\n",
    "Concluye la sección de síntesis de funciones de excitación dejando algunas pautas para resolver la síntesis de redes R-L-C. Como se explicó en los documentos anteriores para las redes compuestas por dos elementos diferentes, habrá que prestar especial atención en todos los pasos de la síntesis de que la inmitancia remanente no pierda su **condición de ser realizable**, es decir que sea FRP. \n",
    "\n",
    "Se presentan a continuación algunos ejemplos orientados a resolver ciertos problemas especialmente útiles al momento de sintetizar **transferencias cargadas**. Se remite al lector interesado en métodos sistemáticos a la [bibliografía](https://en.wikipedia.org/wiki/Network_synthesis) (Brune, Bott-Duffin, Miyata, etc.)\n",
    "\n",
    "Se inicializa el entorno de trabajo para comenzar con el primer ejemplo"
   ]
  },
  {
   "cell_type": "code",
   "execution_count": 3,
   "metadata": {
    "scrolled": true
   },
   "outputs": [],
   "source": [
    "\n",
    "import sympy as sp\n",
    "\n",
    "# Ahora importamos las funciones de PyTC2\n",
    "\n",
    "from pytc2.sintesis_dipolo import cauer_RC, foster, foster_zRC2yRC\n",
    "from pytc2.dibujar import dibujar_cauer_RC_RL, dibujar_foster_derivacion, dibujar_foster_serie\n",
    "from pytc2.general import print_latex, print_subtitle, a_equal_b_latex_s\n",
    "from IPython.display import display,  Markdown\n"
   ]
  },
  {
   "cell_type": "markdown",
   "metadata": {},
   "source": [
    "#### Ejemplo 1:\n",
    "\n",
    "Sea la siguiente función de impedancia:\n"
   ]
  },
  {
   "cell_type": "code",
   "execution_count": 10,
   "metadata": {},
   "outputs": [
    {
     "data": {
      "text/markdown": [
       "#### Impedancia $Z_{RLC}$ "
      ],
      "text/plain": [
       "<IPython.core.display.Markdown object>"
      ]
     },
     "metadata": {},
     "output_type": "display_data"
    },
    {
     "data": {
      "text/latex": [
       "$\\displaystyle Z_{RLC}(s)=\\frac{s^{2} + 2 s + 2}{s^{2} + s + 1}$"
      ],
      "text/plain": [
       "<IPython.core.display.Math object>"
      ]
     },
     "metadata": {},
     "output_type": "display_data"
    }
   ],
   "source": [
    "# Resolución simbólica\n",
    "s = sp.symbols('s ', complex=True)\n",
    "\n",
    "# Sea la siguiente función de excitación\n",
    "ZZ = (s**2 + 2*s + 2)/(s**2 + 1*s + 1)\n",
    "\n",
    "print_subtitle('Impedancia $Z_{RLC}$ ')\n",
    "\n",
    "print_latex(a_equal_b_latex_s('Z_{RLC}(s)', ZZ))\n"
   ]
  },
  {
   "cell_type": "code",
   "execution_count": 11,
   "metadata": {},
   "outputs": [
    {
     "data": {
      "text/markdown": [
       "#### Expansión Foster de $Z_{RLC}$ "
      ],
      "text/plain": [
       "<IPython.core.display.Markdown object>"
      ]
     },
     "metadata": {},
     "output_type": "display_data"
    },
    {
     "data": {
      "text/latex": [
       "$\\displaystyle Z_{RLC}(s)=\\frac{s^{2} + 2 s + 2}{s^{2} + s + 1}=\\frac{s + 1}{s^{2} + s + 1} + 1$"
      ],
      "text/plain": [
       "<IPython.core.display.Math object>"
      ]
     },
     "metadata": {},
     "output_type": "display_data"
    },
    {
     "data": {
      "text/latex": [
       "$\\displaystyle k_0=\\text{None}$"
      ],
      "text/plain": [
       "<IPython.core.display.Math object>"
      ]
     },
     "metadata": {},
     "output_type": "display_data"
    },
    {
     "data": {
      "text/latex": [
       "$\\displaystyle k_1=\\left[ \\left[ 1, \\  \\text{None}\\right]\\right]$"
      ],
      "text/plain": [
       "<IPython.core.display.Math object>"
      ]
     },
     "metadata": {},
     "output_type": "display_data"
    },
    {
     "data": {
      "text/latex": [
       "$\\displaystyle k_k=1$"
      ],
      "text/plain": [
       "<IPython.core.display.Math object>"
      ]
     },
     "metadata": {},
     "output_type": "display_data"
    }
   ],
   "source": [
    "# Se expande ZRC a la Foster\n",
    "k0, koo, ki_wi, kk, ZRLC_foster = foster(ZZ)\n",
    "\n",
    "print_subtitle('Expansión Foster de $Z_{RLC}$ ')\n",
    "\n",
    "print_latex(a_equal_b_latex_s(a_equal_b_latex_s('Z_{RLC}(s)', ZZ)[1:-1], ZRLC_foster ))\n",
    "\n",
    "print_latex(a_equal_b_latex_s('k_0', k0))\n",
    "\n",
    "print_latex(a_equal_b_latex_s(r'k_1', ki_wi ))\n",
    "\n",
    "print_latex(a_equal_b_latex_s('k_k', kk))\n",
    "\n"
   ]
  },
  {
   "cell_type": "code",
   "execution_count": 12,
   "metadata": {
    "scrolled": true
   },
   "outputs": [
    {
     "data": {
      "text/markdown": [
       "#### Expansión Foster de $Y_{RLC}$ "
      ],
      "text/plain": [
       "<IPython.core.display.Markdown object>"
      ]
     },
     "metadata": {},
     "output_type": "display_data"
    },
    {
     "data": {
      "text/latex": [
       "$\\displaystyle Y_{RLC}(s)=\\frac{s^{2} + s + 1}{s^{2} + 2 s + 2}=- \\frac{s + 1}{s^{2} + 2 s + 2} + 1$"
      ],
      "text/plain": [
       "<IPython.core.display.Math object>"
      ]
     },
     "metadata": {},
     "output_type": "display_data"
    },
    {
     "data": {
      "text/latex": [
       "$\\displaystyle k_0=\\text{None}$"
      ],
      "text/plain": [
       "<IPython.core.display.Math object>"
      ]
     },
     "metadata": {},
     "output_type": "display_data"
    },
    {
     "data": {
      "text/latex": [
       "$\\displaystyle k_1=\\left[ \\left[ -2, \\  \\text{None}\\right]\\right]$"
      ],
      "text/plain": [
       "<IPython.core.display.Math object>"
      ]
     },
     "metadata": {},
     "output_type": "display_data"
    },
    {
     "data": {
      "text/latex": [
       "$\\displaystyle k_k=1$"
      ],
      "text/plain": [
       "<IPython.core.display.Math object>"
      ]
     },
     "metadata": {},
     "output_type": "display_data"
    }
   ],
   "source": [
    "# Se expande ZRC a la Foster\n",
    "k0, koo, ki_wi, kk, YRLC_foster = foster(1/ZZ)\n",
    "\n",
    "print_subtitle('Expansión Foster de $Y_{RLC}$ ')\n",
    "\n",
    "print_latex(a_equal_b_latex_s(a_equal_b_latex_s('Y_{RLC}(s)', 1/ZZ)[1:-1], YRLC_foster ))\n",
    "\n",
    "print_latex(a_equal_b_latex_s('k_0', k0))\n",
    "\n",
    "print_latex(a_equal_b_latex_s(r'k_1', ki_wi ))\n",
    "\n",
    "print_latex(a_equal_b_latex_s('k_k', kk))\n"
   ]
  },
  {
   "cell_type": "markdown",
   "metadata": {},
   "source": [
    "como se puede apreciar, ninguna de las formas Foster pareciera llegar a buen puerto para la síntesis, probaremos con Cauer finalmente"
   ]
  },
  {
   "cell_type": "code",
   "execution_count": null,
   "metadata": {},
   "outputs": [],
   "source": [
    "from pytc2.sintesis_dipolo import cauer_RC\n",
    "from pytc2.dibujar import dibujar_cauer_RC_RL\n",
    "\n",
    "# Implementaremos FF mediante Cauer 1 o remociones continuas en infinito\n",
    "koo, ZZ_cauer_oo, rem = cauer_RC(ZZ, remover_en_inf=True)\n",
    "\n",
    "print_subtitle('Implementación escalera de $Z_{RLC}$ e $Y_{RLC}$')\n",
    "\n",
    "print_latex(a_equal_b_latex_s(a_equal_b_latex_s('$ Z_{RLC}(s)', ZZ)[1:-1], ZZ_cauer_oo ))\n",
    "\n",
    "# Tratamos a nuestra función inmitancia como una Z\n",
    "dibujar_cauer_RC_RL(koo, z_exc = ZZ_cauer_oo)\n",
    "\n",
    "print_latex(a_equal_b_latex_s(a_equal_b_latex_s('$ Y_{RLC}(s)', ZZ)[1:-1], ZZ_cauer_oo ))\n",
    "\n",
    "# Tratamos a nuestra función inmitancia como una Y\n",
    "dibujar_cauer_RC_RL(koo, y_exc = ZZ_cauer_oo)\n",
    "\n"
   ]
  },
  {
   "cell_type": "code",
   "execution_count": null,
   "metadata": {},
   "outputs": [],
   "source": [
    "print_subtitle('Implementación circuital $Y_{RC}$ Foster serie')\n",
    "\n",
    "# Recalculamos\n",
    "k0, koo, ki_wi, kk, YRC_foster = foster(YRC/s)\n",
    "k0, koo, ki_wi, kk, YRC_foster = foster_zRC2yRC(k0, koo, ki_wi, kk, YRC_foster)\n",
    "\n",
    "# Tratamos a nuestra función imitancia como una Y\n",
    "dibujar_foster_derivacion(k0, koo, ki_wi, kk, y_exc = YRC_foster)\n"
   ]
  },
  {
   "cell_type": "markdown",
   "metadata": {},
   "source": [
    "### Implementación de  FE con inductores\n",
    "\n",
    "Ahora presentamos las versiones equivalentes de las FE disipativas analizadas hasta ahora"
   ]
  },
  {
   "cell_type": "code",
   "execution_count": null,
   "metadata": {},
   "outputs": [],
   "source": [
    "print_subtitle('Implementación circuital $Y_{RC}$ como $Z_{RL}$')\n",
    "\n",
    "# Tratamos a nuestra función imitancia como una Y\n",
    "dibujar_foster_serie(k0, koo, ki_wi, kk, z_exc = YRC_foster)\n"
   ]
  },
  {
   "cell_type": "code",
   "execution_count": null,
   "metadata": {},
   "outputs": [],
   "source": [
    "print_subtitle('Implementación circuital $Z_{RC}$ como $Y_{RL}$')\n",
    "\n",
    "k0, koo, ki_wi, kk, ZRC_foster = foster(ZRC)\n",
    "\n",
    "# Tratamos a nuestra función imitancia como una Y\n",
    "dibujar_foster_derivacion(k0, koo, ki_wi, kk, y_exc = ZRC_foster)\n"
   ]
  },
  {
   "cell_type": "markdown",
   "metadata": {},
   "source": [
    "### Expansión en fracciones continuas: Método de Cauer\n",
    "\n",
    "Del mismo modo que el método de Foster se sutenta en la expansión en fracciones simples, el de Cauer consiste en la expansión en [fracciones continuas](https://en.wikipedia.org/wiki/Network_synthesis#Cauer_synthesis). En el caso de FE disipativas, se realizará la expansión mediante los residuos $k_0$, $k_\\infty$ y $k_K$, dependiendo si se expande una $Z_{RC}$ o una $Y_{RC}$:\n",
    "\n",
    "$$ Z_{RC}(s)= \\frac{1}{s.C_1} + \\frac{1}{ \\frac{1}{R_1} + \\frac{1}{ \\frac{1}{s.C_2} + \\cdots } } = \n",
    "         R_1 + \\frac{1}{ s.C_1 + \\frac{1}{ R_2 + \\cdots } } $$\n",
    "\n",
    "$$ Y_{RC}(s)= s.C_1 + \\frac{1}{ R_1 + \\frac{1}{ s.C_2 + \\cdots } } = \n",
    "         \\frac{1}{R_1} + \\frac{1}{ s.C_1 + \\frac{1}{ \\frac{1}{R_2} + \\cdots } } $$\n",
    "\n",
    "se ve claramente como sendas funciones de inmitancia, se corresponden con 2 redes diferentes, dependiendo dónde se realicen las remociones. Se darán ejemplos en los siguientes paneles.\n"
   ]
  },
  {
   "cell_type": "markdown",
   "metadata": {},
   "source": [
    "\n",
    "## Cauer 1: remociones en $\\infty$\n",
    "\n",
    "Se comienza con la primera forma del método, es decir cuando se realizan remociones de los residuos en infinito."
   ]
  },
  {
   "cell_type": "code",
   "execution_count": null,
   "metadata": {},
   "outputs": [],
   "source": [
    "from pytc2.sintesis_dipolo import cauer_RC\n",
    "from pytc2.dibujar import dibujar_cauer_RC_RL\n",
    "\n",
    "# Implementaremos FF mediante Cauer 1 o remociones continuas en infinito\n",
    "koo, ZRC_cauer_oo, rem = cauer_RC(ZRC, remover_en_inf=True)\n",
    "\n",
    "print_subtitle('Implementación escalera de $Z_{RC}$ e $Y_{RL}$')\n",
    "\n",
    "print_latex(a_equal_b_latex_s(a_equal_b_latex_s('$ Z_{RC}(s)', ZRC)[1:-1], ZRC_cauer_oo ))\n",
    "\n",
    "# Tratamos a nuestra función inmitancia como una Z\n",
    "dibujar_cauer_RC_RL(koo, z_exc = ZRC_cauer_oo)\n",
    "\n",
    "print_latex(a_equal_b_latex_s(a_equal_b_latex_s('$ Y_{RL}(s)', ZRC)[1:-1], ZRC_cauer_oo ))\n",
    "\n",
    "# Tratamos a nuestra función inmitancia como una Y\n",
    "dibujar_cauer_RC_RL(koo, y_exc = ZRC_cauer_oo)\n",
    "\n"
   ]
  },
  {
   "cell_type": "markdown",
   "metadata": {},
   "source": [
    "Se observa, como es de esperarse, que interpretar la inmitancia como impedancia o admitancia utilizando Cauer 1, da lugar a redes **duales**. Sin embargo en ambos casos se observan transferencias pasabajo (respecto a un posible puerto de salida en el extremo derecho de la red), ya que se obtienen inductores en serie y capacitores en derivación.\n",
    "\n",
    "## Cauer 2: remociones en 0 o DC\n",
    "\n",
    "Repetimos ahora para remociones de los residuos en 0 Hz, obtendremos dos redes también duales."
   ]
  },
  {
   "cell_type": "code",
   "execution_count": null,
   "metadata": {},
   "outputs": [],
   "source": [
    "\n",
    "# Implementaremos FF mediante Cauer 1 o remociones continuas en infinito\n",
    "koo, YRC_cauer_oo, rem = cauer_RC(YRC, remover_en_inf=False)\n",
    "\n",
    "print_subtitle('Implementación escalera de $Y_{RC}$ y $Z_{RL}$')\n",
    "\n",
    "print_latex(a_equal_b_latex_s(a_equal_b_latex_s('$ Y_{RC}(s)', YRC)[1:-1], YRC_cauer_oo ))\n",
    "\n",
    "# Tratamos a nuestra función inmitancia como una Z\n",
    "dibujar_cauer_RC_RL(koo, z_exc = YRC_cauer_oo)\n",
    "\n",
    "print_latex(a_equal_b_latex_s(a_equal_b_latex_s('$ Z_{RL}(s)', YRC)[1:-1], YRC_cauer_oo ))\n",
    "\n",
    "# Tratamos a nuestra función inmitancia como una Y\n",
    "dibujar_cauer_RC_RL(koo, y_exc = YRC_cauer_oo)\n"
   ]
  },
  {
   "cell_type": "markdown",
   "metadata": {},
   "source": [
    "Ambas redes duales, tienen características en común como ser que ambas tienen capacitores en serie e inductores en derivación. Esto contrasta con las redes halladas mediante Cauer 1, donde observamos lo contrario: inductores en serie y capacitores en derivación. Está claro que Cauer 1 da lugar a redes que, en caso **que imaginemos un puerto de salida en el extremo derecho de la red**, serían filtros **pasabajo**, mientras que sintetizar una red mediante Cauer 2 da lugar a una red escalera **pasa-altos**.\n"
   ]
  }
 ],
 "metadata": {
  "kernelspec": {
   "display_name": "Python 3 (ipykernel)",
   "language": "python",
   "name": "python3"
  },
  "language_info": {
   "codemirror_mode": {
    "name": "ipython",
    "version": 3
   },
   "file_extension": ".py",
   "mimetype": "text/x-python",
   "name": "python",
   "nbconvert_exporter": "python",
   "pygments_lexer": "ipython3",
   "version": "3.10.12"
  },
  "varInspector": {
   "cols": {
    "lenName": 16,
    "lenType": 16,
    "lenVar": 40
   },
   "kernels_config": {
    "python": {
     "delete_cmd_postfix": "",
     "delete_cmd_prefix": "del ",
     "library": "var_list.py",
     "varRefreshCmd": "print(var_dic_list())"
    },
    "r": {
     "delete_cmd_postfix": ") ",
     "delete_cmd_prefix": "rm(",
     "library": "var_list.r",
     "varRefreshCmd": "cat(var_dic_list()) "
    }
   },
   "types_to_exclude": [
    "module",
    "function",
    "builtin_function_or_method",
    "instance",
    "_Feature"
   ],
   "window_display": false
  }
 },
 "nbformat": 4,
 "nbformat_minor": 4
}
