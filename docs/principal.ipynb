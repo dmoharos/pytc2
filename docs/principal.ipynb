{
 "cells": [
  {
   "cell_type": "markdown",
   "metadata": {},
   "source": [
    "# PyTC2 NB Ejemplos "
   ]
  },
  {
   "cell_type": "markdown",
   "metadata": {},
   "source": [
    "\n",
    "En los siguientes notebooks encontrarán ejemplos de cómo usar la librería **PyTC2** siguiendo los grandes temas de la asignatura *Teoría de los Circuitos 2* (TC2) de la Universidad Tecnológica Nacional, en Buenos Aires, Argentina. &nbsp; \n",
    "\n",
    " 1. **Análisis y síntesis de redes pasivas y activas**\n",
    "\n",
    "     a. [Análisis de un filtro pasabajo pasivo](filtro_pasivo_sos.ipynb)\n",
    "\n",
    "     b. [Análisis de un filtro pasabajo activo Sallen-Key](Sallen-Key&#32;sensibilidad.ipynb)\n",
    "&nbsp; \n",
    "\n",
    " 2. **Teoría de la aproximación y su aplicación a los filtros eléctricos**\n",
    " \n",
    "     a. [Comparativa de funciones de aproximación](ComparativaOrdenes.ipynb)\n",
    "\n",
    "     b. [Transformación pasabanda](transformacion_pasabanda.ipynb)\n",
    "     \n",
    "     c. [Factorización y ordenamiento de SOS](secciones_SOS.ipynb)\n",
    "&nbsp; \n",
    "\n",
    " 3. **Teoría e cuadripolos lineales**\n",
    " \n",
    "    a. [Cuadripolos de redes elementales](cuadripolos_elementales.ipynb)\n",
    "    \n",
    "    b. [Conversion de modelos](conversion_cuadripolos.ipynb)\n",
    "    \n",
    "    c. [Análisis de redes mediante matriz admitancia indefinida](analisis_mai.ipynb)\n",
    "    \n",
    "&nbsp; \n",
    " \n",
    " 4. **Filtros digitales**\n",
    " \n",
    "    b. [otros ...]()\n",
    "&nbsp; \n",
    " \n",
    " 5. **Síntesis de dipolos y cuadripolos**\n",
    " \n",
    "    b. [otros ...]()\n",
    "&nbsp; \n",
    " \n",
    " 6. **Diseño de filtros/adaptadores de impedancia.**\n",
    " \n",
    "    b. [otros ...]()\n",
    "&nbsp; \n",
    " "
   ]
  }
 ],
 "metadata": {
  "kernelspec": {
   "display_name": "Python 3 (ipykernel)",
   "language": "python",
   "name": "python3"
  },
  "language_info": {
   "codemirror_mode": {
    "name": "ipython",
    "version": 3
   },
   "file_extension": ".py",
   "mimetype": "text/x-python",
   "name": "python",
   "nbconvert_exporter": "python",
   "pygments_lexer": "ipython3",
   "version": "3.10.6"
  }
 },
 "nbformat": 4,
 "nbformat_minor": 2
}
